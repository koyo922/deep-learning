{
 "cells": [
  {
   "cell_type": "markdown",
   "metadata": {
    "collapsed": true
   },
   "source": [
    "# Image Classification\n",
    "In this project, you'll classify images from the [CIFAR-10 dataset](https://www.cs.toronto.edu/~kriz/cifar.html).  The dataset consists of airplanes, dogs, cats, and other objects. You'll preprocess the images, then train a convolutional neural network on all the samples. The images need to be normalized and the labels need to be one-hot encoded.  You'll get to apply what you learned and build a convolutional, max pooling, dropout, and fully connected layers.  At the end, you'll get to see your neural network's predictions on the sample images.\n",
    "## Get the Data\n",
    "Run the following cell to download the [CIFAR-10 dataset for python](https://www.cs.toronto.edu/~kriz/cifar-10-python.tar.gz)."
   ]
  },
  {
   "cell_type": "code",
   "execution_count": 1,
   "metadata": {},
   "outputs": [
    {
     "data": {
      "text/plain": [
       "\"\\nDON'T MODIFY ANYTHING IN THIS CELL THAT IS BELOW THIS LINE\\n\""
      ]
     },
     "execution_count": 1,
     "metadata": {},
     "output_type": "execute_result"
    },
    {
     "name": "stderr",
     "output_type": "stream",
     "text": [
      "CIFAR-10 Dataset: 100%|█████████▉| 170M/170M [01:00<00:00, 2.98MB/s]    "
     ]
    },
    {
     "data": {
      "text/plain": [
       "('cifar-10-python.tar.gz', <http.client.HTTPMessage at 0x1099f0208>)"
      ]
     },
     "execution_count": 1,
     "metadata": {},
     "output_type": "execute_result"
    },
    {
     "name": "stderr",
     "output_type": "stream",
     "text": [
      "CIFAR-10 Dataset: 171MB [01:00, 2.80MB/s]                           \n"
     ]
    },
    {
     "name": "stdout",
     "output_type": "stream",
     "text": [
      "All files found!\n"
     ]
    }
   ],
   "source": [
    "\"\"\"\n",
    "DON'T MODIFY ANYTHING IN THIS CELL THAT IS BELOW THIS LINE\n",
    "\"\"\"\n",
    "from urllib.request import urlretrieve\n",
    "from os.path import isfile, isdir\n",
    "from tqdm import tqdm\n",
    "import problem_unittests as tests\n",
    "import tarfile\n",
    "\n",
    "cifar10_dataset_folder_path = 'cifar-10-batches-py'\n",
    "\n",
    "# Use Floyd's cifar-10 dataset if present\n",
    "floyd_cifar10_location = '/input/cifar-10/python.tar.gz'\n",
    "if isfile(floyd_cifar10_location):\n",
    "    tar_gz_path = floyd_cifar10_location\n",
    "else:\n",
    "    tar_gz_path = 'cifar-10-python.tar.gz'\n",
    "\n",
    "class DLProgress(tqdm):\n",
    "    last_block = 0\n",
    "\n",
    "    def hook(self, block_num=1, block_size=1, total_size=None):\n",
    "        self.total = total_size\n",
    "        self.update((block_num - self.last_block) * block_size)\n",
    "        self.last_block = block_num\n",
    "\n",
    "if not isfile(tar_gz_path):\n",
    "    with DLProgress(unit='B', unit_scale=True, miniters=1, desc='CIFAR-10 Dataset') as pbar:\n",
    "        urlretrieve(\n",
    "            'https://www.cs.toronto.edu/~kriz/cifar-10-python.tar.gz',\n",
    "            tar_gz_path,\n",
    "            pbar.hook)\n",
    "\n",
    "if not isdir(cifar10_dataset_folder_path):\n",
    "    with tarfile.open(tar_gz_path) as tar:\n",
    "        tar.extractall()\n",
    "        tar.close()\n",
    "\n",
    "\n",
    "tests.test_folder_path(cifar10_dataset_folder_path)"
   ]
  },
  {
   "cell_type": "markdown",
   "metadata": {},
   "source": [
    "## Explore the Data\n",
    "The dataset is broken into batches to prevent your machine from running out of memory.  The CIFAR-10 dataset consists of 5 batches, named `data_batch_1`, `data_batch_2`, etc.. Each batch contains the labels and images that are one of the following:\n",
    "* airplane\n",
    "* automobile\n",
    "* bird\n",
    "* cat\n",
    "* deer\n",
    "* dog\n",
    "* frog\n",
    "* horse\n",
    "* ship\n",
    "* truck\n",
    "\n",
    "Understanding a dataset is part of making predictions on the data.  Play around with the code cell below by changing the `batch_id` and `sample_id`. The `batch_id` is the id for a batch (1-5). The `sample_id` is the id for a image and label pair in the batch.\n",
    "\n",
    "Ask yourself \"What are all possible labels?\", \"What is the range of values for the image data?\", \"Are the labels in order or random?\".  Answers to questions like these will help you preprocess the data and end up with better predictions."
   ]
  },
  {
   "cell_type": "code",
   "execution_count": 2,
   "metadata": {},
   "outputs": [
    {
     "name": "stdout",
     "output_type": "stream",
     "text": [
      "\n",
      "Stats of batch 1:\n",
      "Samples: 10000\n",
      "Label Counts: {0: 1005, 1: 974, 2: 1032, 3: 1016, 4: 999, 5: 937, 6: 1030, 7: 1001, 8: 1025, 9: 981}\n",
      "First 20 Labels: [6, 9, 9, 4, 1, 1, 2, 7, 8, 3, 4, 7, 7, 2, 9, 9, 9, 3, 2, 6]\n",
      "\n",
      "Example of Image 5:\n",
      "Image - Min Value: 0 Max Value: 252\n",
      "Image - Shape: (32, 32, 3)\n",
      "Label - Label Id: 1 Name: automobile\n"
     ]
    },
    {
     "data": {
      "image/png": "[encoded data removed]",
      "text/plain": [
       "<matplotlib.figure.Figure at 0x116e174e0>"
      ]
     },
     "metadata": {
      "image/png": {
       "height": 250,
       "width": 253
      }
     },
     "output_type": "display_data"
    }
   ],
   "source": [
    "%matplotlib inline\n",
    "%config InlineBackend.figure_format = 'retina'\n",
    "\n",
    "import helper\n",
    "import numpy as np\n",
    "\n",
    "# Explore the dataset\n",
    "batch_id = 1\n",
    "sample_id = 5\n",
    "helper.display_stats(cifar10_dataset_folder_path, batch_id, sample_id)"
   ]
  },
  {
   "cell_type": "markdown",
   "metadata": {},
   "source": [
    "## Implement Preprocess Functions\n",
    "### Normalize\n",
    "In the cell below, implement the `normalize` function to take in image data, `x`, and return it as a normalized Numpy array. The values should be in the range of 0 to 1, inclusive.  The return object should be the same shape as `x`."
   ]
  },
  {
   "cell_type": "code",
   "execution_count": 3,
   "metadata": {},
   "outputs": [
    {
     "data": {
      "text/plain": [
       "\"\\nDON'T MODIFY ANYTHING IN THIS CELL THAT IS BELOW THIS LINE\\n\""
      ]
     },
     "execution_count": 3,
     "metadata": {},
     "output_type": "execute_result"
    },
    {
     "name": "stdout",
     "output_type": "stream",
     "text": [
      "Tests Passed\n"
     ]
    }
   ],
   "source": [
    "def normalize(x):\n",
    "    \"\"\"\n",
    "    Normalize a list of sample image data in the range of 0 to 1\n",
    "    : x: List of image data.  The image shape is (32, 32, 3)\n",
    "    : return: Numpy array of normalize data\n",
    "    \"\"\"\n",
    "    # TODO: Implement Function\n",
    "    res = []\n",
    "    for img in x:\n",
    "        res.append((img - 0) / (255 - 0))\n",
    "    return np.array(res)\n",
    "\n",
    "\"\"\"\n",
    "DON'T MODIFY ANYTHING IN THIS CELL THAT IS BELOW THIS LINE\n",
    "\"\"\"\n",
    "tests.test_normalize(normalize)"
   ]
  },
  {
   "cell_type": "markdown",
   "metadata": {},
   "source": [
    "### One-hot encode\n",
    "Just like the previous code cell, you'll be implementing a function for preprocessing.  This time, you'll implement the `one_hot_encode` function. The input, `x`, are a list of labels.  Implement the function to return the list of labels as One-Hot encoded Numpy array.  The possible values for labels are 0 to 9. The one-hot encoding function should return the same encoding for each value between each call to `one_hot_encode`.  Make sure to save the map of encodings outside the function.\n",
    "\n",
    "Hint: Don't reinvent the wheel."
   ]
  },
  {
   "cell_type": "code",
   "execution_count": 11,
   "metadata": {},
   "outputs": [
    {
     "data": {
      "text/plain": [
       "\"\\nDON'T MODIFY ANYTHING IN THIS CELL THAT IS BELOW THIS LINE\\n\""
      ]
     },
     "execution_count": 11,
     "metadata": {},
     "output_type": "execute_result"
    },
    {
     "name": "stdout",
     "output_type": "stream",
     "text": [
      "Tests Passed\n"
     ]
    }
   ],
   "source": [
    "from sklearn.preprocessing import OneHotEncoder\n",
    "\n",
    "def one_hot_encode(x):\n",
    "    \"\"\"\n",
    "    One hot encode a list of sample labels. Return a one-hot encoded vector for each label.\n",
    "    : x: List of sample Labels\n",
    "    : return: Numpy array of one-hot encoded labels\n",
    "    \"\"\"\n",
    "    # TODO: Implement Function\n",
    "    ohe = OneHotEncoder(n_values=10, sparse=False)\n",
    "    return ohe.fit_transform(np.array(x).reshape(-1,1))\n",
    "\n",
    "\n",
    "\"\"\"\n",
    "DON'T MODIFY ANYTHING IN THIS CELL THAT IS BELOW THIS LINE\n",
    "\"\"\"\n",
    "tests.test_one_hot_encode(one_hot_encode)"
   ]
  },
  {
   "cell_type": "markdown",
   "metadata": {},
   "source": [
    "### Randomize Data\n",
    "As you saw from exploring the data above, the order of the samples are randomized.  It doesn't hurt to randomize it again, but you don't need to for this dataset."
   ]
  },
  {
   "cell_type": "markdown",
   "metadata": {},
   "source": [
    "## Preprocess all the data and save it\n",
    "Running the code cell below will preprocess all the CIFAR-10 data and save it to file. The code below also uses 10% of the training data for validation."
   ]
  },
  {
   "cell_type": "code",
   "execution_count": 12,
   "metadata": {},
   "outputs": [
    {
     "data": {
      "text/plain": [
       "\"\\nDON'T MODIFY ANYTHING IN THIS CELL\\n\""
      ]
     },
     "execution_count": 12,
     "metadata": {},
     "output_type": "execute_result"
    }
   ],
   "source": [
    "\"\"\"\n",
    "DON'T MODIFY ANYTHING IN THIS CELL\n",
    "\"\"\"\n",
    "# Preprocess Training, Validation, and Testing Data\n",
    "helper.preprocess_and_save_data(cifar10_dataset_folder_path, normalize, one_hot_encode)"
   ]
  },
  {
   "cell_type": "markdown",
   "metadata": {},
   "source": [
    "# Check Point\n",
    "This is your first checkpoint.  If you ever decide to come back to this notebook or have to restart the notebook, you can start from here.  The preprocessed data has been saved to disk."
   ]
  },
  {
   "cell_type": "code",
   "execution_count": 13,
   "metadata": {},
   "outputs": [
    {
     "data": {
      "text/plain": [
       "\"\\nDON'T MODIFY ANYTHING IN THIS CELL\\n\""
      ]
     },
     "execution_count": 13,
     "metadata": {},
     "output_type": "execute_result"
    }
   ],
   "source": [
    "\"\"\"\n",
    "DON'T MODIFY ANYTHING IN THIS CELL\n",
    "\"\"\"\n",
    "import pickle\n",
    "import problem_unittests as tests\n",
    "import helper\n",
    "\n",
    "# Load the Preprocessed Validation data\n",
    "valid_features, valid_labels = pickle.load(open('preprocess_validation.p', mode='rb'))"
   ]
  },
  {
   "cell_type": "markdown",
   "metadata": {},
   "source": [
    "## Build the network\n",
    "For the neural network, you'll build each layer into a function.  Most of the code you've seen has been outside of functions. To test your code more thoroughly, we require that you put each layer in a function.  This allows us to give you better feedback and test for simple mistakes using our unittests before you submit your project.\n",
    "\n",
    ">**Note:** If you're finding it hard to dedicate enough time for this course each week, we've provided a small shortcut to this part of the project. In the next couple of problems, you'll have the option to use classes from the [TensorFlow Layers](https://www.tensorflow.org/api_docs/python/tf/layers) or [TensorFlow Layers (contrib)](https://www.tensorflow.org/api_guides/python/contrib.layers) packages to build each layer, except the layers you build in the \"Convolutional and Max Pooling Layer\" section.  TF Layers is similar to Keras's and TFLearn's abstraction to layers, so it's easy to pickup.\n",
    "\n",
    ">However, if you would like to get the most out of this course, try to solve all the problems _without_ using anything from the TF Layers packages. You **can** still use classes from other packages that happen to have the same name as ones you find in TF Layers! For example, instead of using the TF Layers version of the `conv2d` class, [tf.layers.conv2d](https://www.tensorflow.org/api_docs/python/tf/layers/conv2d), you would want to use the TF Neural Network version of `conv2d`, [tf.nn.conv2d](https://www.tensorflow.org/api_docs/python/tf/nn/conv2d). \n",
    "\n",
    "Let's begin!\n",
    "\n",
    "### Input\n",
    "The neural network needs to read the image data, one-hot encoded labels, and dropout keep probability. Implement the following functions\n",
    "* Implement `neural_net_image_input`\n",
    " * Return a [TF Placeholder](https://www.tensorflow.org/api_docs/python/tf/placeholder)\n",
    " * Set the shape using `image_shape` with batch size set to `None`.\n",
    " * Name the TensorFlow placeholder \"x\" using the TensorFlow `name` parameter in the [TF Placeholder](https://www.tensorflow.org/api_docs/python/tf/placeholder).\n",
    "* Implement `neural_net_label_input`\n",
    " * Return a [TF Placeholder](https://www.tensorflow.org/api_docs/python/tf/placeholder)\n",
    " * Set the shape using `n_classes` with batch size set to `None`.\n",
    " * Name the TensorFlow placeholder \"y\" using the TensorFlow `name` parameter in the [TF Placeholder](https://www.tensorflow.org/api_docs/python/tf/placeholder).\n",
    "* Implement `neural_net_keep_prob_input`\n",
    " * Return a [TF Placeholder](https://www.tensorflow.org/api_docs/python/tf/placeholder) for dropout keep probability.\n",
    " * Name the TensorFlow placeholder \"keep_prob\" using the TensorFlow `name` parameter in the [TF Placeholder](https://www.tensorflow.org/api_docs/python/tf/placeholder).\n",
    "\n",
    "These names will be used at the end of the project to load your saved model.\n",
    "\n",
    "Note: `None` for shapes in TensorFlow allow for a dynamic size."
   ]
  },
  {
   "cell_type": "code",
   "execution_count": 16,
   "metadata": {},
   "outputs": [
    {
     "data": {
      "text/plain": [
       "\"\\nDON'T MODIFY ANYTHING IN THIS CELL THAT IS BELOW THIS LINE\\n\""
      ]
     },
     "execution_count": 16,
     "metadata": {},
     "output_type": "execute_result"
    },
    {
     "name": "stdout",
     "output_type": "stream",
     "text": [
      "Image Input Tests Passed.\n",
      "Label Input Tests Passed.\n",
      "Keep Prob Tests Passed.\n"
     ]
    }
   ],
   "source": [
    "import tensorflow as tf\n",
    "\n",
    "def neural_net_image_input(image_shape):\n",
    "    \"\"\"\n",
    "    Return a Tensor for a batch of image input\n",
    "    : image_shape: Shape of the images\n",
    "    : return: Tensor for image input.\n",
    "    \"\"\"\n",
    "    # TODO: Implement Function\n",
    "    return tf.placeholder(np.float32, shape=[None, *image_shape], name='x')\n",
    "\n",
    "\n",
    "def neural_net_label_input(n_classes):\n",
    "    \"\"\"\n",
    "    Return a Tensor for a batch of label input\n",
    "    : n_classes: Number of classes\n",
    "    : return: Tensor for label input.\n",
    "    \"\"\"\n",
    "    # TODO: Implement Function\n",
    "    return tf.placeholder(np.float32, shape=[None, n_classes], name='y')\n",
    "\n",
    "\n",
    "def neural_net_keep_prob_input():\n",
    "    \"\"\"\n",
    "    Return a Tensor for keep probability\n",
    "    : return: Tensor for keep probability.\n",
    "    \"\"\"\n",
    "    # TODO: Implement Function\n",
    "    return tf.placeholder(dtype=np.float32, name='keep_prob')\n",
    "\n",
    "\n",
    "\"\"\"\n",
    "DON'T MODIFY ANYTHING IN THIS CELL THAT IS BELOW THIS LINE\n",
    "\"\"\"\n",
    "tf.reset_default_graph()\n",
    "tests.test_nn_image_inputs(neural_net_image_input)\n",
    "tests.test_nn_label_inputs(neural_net_label_input)\n",
    "tests.test_nn_keep_prob_inputs(neural_net_keep_prob_input)"
   ]
  },
  {
   "cell_type": "markdown",
   "metadata": {},
   "source": [
    "### Convolution and Max Pooling Layer\n",
    "Convolution layers have a lot of success with images. For this code cell, you should implement the function `conv2d_maxpool` to apply convolution then max pooling:\n",
    "* Create the weight and bias using `conv_ksize`, `conv_num_outputs` and the shape of `x_tensor`.\n",
    "* Apply a convolution to `x_tensor` using weight and `conv_strides`.\n",
    " * We recommend you use same padding, but you're welcome to use any padding.\n",
    "* Add bias\n",
    "* Add a nonlinear activation to the convolution.\n",
    "* Apply Max Pooling using `pool_ksize` and `pool_strides`.\n",
    " * We recommend you use same padding, but you're welcome to use any padding.\n",
    "\n",
    "**Note:** You **can't** use [TensorFlow Layers](https://www.tensorflow.org/api_docs/python/tf/layers) or [TensorFlow Layers (contrib)](https://www.tensorflow.org/api_guides/python/contrib.layers) for **this** layer, but you can still use TensorFlow's [Neural Network](https://www.tensorflow.org/api_docs/python/tf/nn) package. You may still use the shortcut option for all the **other** layers."
   ]
  },
  {
   "cell_type": "code",
   "execution_count": 149,
   "metadata": {
    "scrolled": false
   },
   "outputs": [
    {
     "data": {
      "text/plain": [
       "\"\\nDON'T MODIFY ANYTHING IN THIS CELL THAT IS BELOW THIS LINE\\n\""
      ]
     },
     "execution_count": 149,
     "metadata": {},
     "output_type": "execute_result"
    },
    {
     "name": "stdout",
     "output_type": "stream",
     "text": [
      "Tests Passed\n"
     ]
    }
   ],
   "source": [
    "def conv2d_maxpool(x_tensor, conv_num_outputs, conv_ksize, conv_strides, pool_ksize, pool_strides):\n",
    "    \"\"\"\n",
    "    Apply convolution then max pooling to x_tensor\n",
    "    :param x_tensor: TensorFlow Tensor\n",
    "    :param conv_num_outputs: Number of outputs for the convolutional layer\n",
    "    :param conv_ksize: kernal size 2-D Tuple for the convolutional layer\n",
    "    :param conv_strides: Stride 2-D Tuple for convolution\n",
    "    :param pool_ksize: kernal size 2-D Tuple for pool\n",
    "    :param pool_strides: Stride 2-D Tuple for pool\n",
    "    : return: A tensor that represents convolution and max pooling of x_tensor\n",
    "    \"\"\"\n",
    "    # TODO: Implement Function\n",
    "    batch_size, x_height, x_width, x_depth = x_tensor.get_shape().as_list()\n",
    "    weight = tf.Variable(tf.truncated_normal([*conv_ksize, x_depth, conv_num_outputs],\n",
    "                        stddev=0.01))\n",
    "    # CAUTION: tf.Variable()\n",
    "    #bias = tf.Variable(tf.truncated_normal([conv_num_outputs]))\n",
    "    bias = tf.Variable(tf.zeros([conv_num_outputs]))\n",
    "    # CAUTION: [] needed\n",
    "    conv_layer = tf.nn.conv2d(x_tensor, weight, [1, *conv_strides, 1], padding='SAME')\n",
    "    #CAUTION: 4-d [1, *conv_strides, 1]\n",
    "    conv_layer = tf.nn.bias_add(conv_layer, bias)\n",
    "    conv_layer = tf.nn.relu(conv_layer)\n",
    "    pooling_layer = tf.nn.max_pool(conv_layer, [1, *pool_ksize, 1], [1, *pool_strides, 1], padding='SAME')\n",
    "    #CAUTION: 4-d [1, *xxx, 1]\n",
    "    return pooling_layer\n",
    "\n",
    "\n",
    "\"\"\"\n",
    "DON'T MODIFY ANYTHING IN THIS CELL THAT IS BELOW THIS LINE\n",
    "\"\"\"\n",
    "tests.test_con_pool(conv2d_maxpool)"
   ]
  },
  {
   "cell_type": "markdown",
   "metadata": {},
   "source": [
    " * ** 注意：一定要包在`tf.Variable`里面，否则训练不动 **\n",
    " * 可以试试手动指定方差 `tf.truncated_normal(..., stddev=0.1)`\n",
    " * bias可以用全零初始化"
   ]
  },
  {
   "cell_type": "markdown",
   "metadata": {},
   "source": [
    "### Flatten Layer\n",
    "Implement the `flatten` function to change the dimension of `x_tensor` from a 4-D tensor to a 2-D tensor.  The output should be the shape (*Batch Size*, *Flattened Image Size*). Shortcut option: you can use classes from the [TensorFlow Layers](https://www.tensorflow.org/api_docs/python/tf/layers) or [TensorFlow Layers (contrib)](https://www.tensorflow.org/api_guides/python/contrib.layers) packages for this layer. For more of a challenge, only use other TensorFlow packages."
   ]
  },
  {
   "cell_type": "code",
   "execution_count": 119,
   "metadata": {},
   "outputs": [
    {
     "data": {
      "text/plain": [
       "\"\\nDON'T MODIFY ANYTHING IN THIS CELL THAT IS BELOW THIS LINE\\n\""
      ]
     },
     "execution_count": 119,
     "metadata": {},
     "output_type": "execute_result"
    },
    {
     "name": "stdout",
     "output_type": "stream",
     "text": [
      "Tests Passed\n"
     ]
    }
   ],
   "source": [
    "import tensorflow as tf\n",
    "import tensorflow.contrib.layers\n",
    "\n",
    "def flatten(x_tensor):\n",
    "    \"\"\"\n",
    "    Flatten x_tensor to (Batch Size, Flattened Image Size)\n",
    "    : x_tensor: A tensor of size (Batch Size, ...), where ... are the image dimensions.\n",
    "    : return: A tensor of size (Batch Size, Flattened Image Size).\n",
    "    \"\"\"\n",
    "    # TODO: Implement Function\n",
    "    \n",
    "#     does not work\n",
    "#     img_dim = tf.reduce_prod(tf.shape(x_tensor)[1:])\n",
    "#     return tf.reshape(x_tensor, [-1, img_dim])\n",
    "\n",
    "#     this works\n",
    "#     img_dim = np.prod(x_tensor.get_shape().as_list()[1:])\n",
    "#     return tf.reshape(x_tensor, [-1, img_dim])\n",
    "\n",
    "#     this is the simplest\n",
    "    return  tf.contrib.layers.flatten(x_tensor)\n",
    "\n",
    "\n",
    "\"\"\"\n",
    "DON'T MODIFY ANYTHING IN THIS CELL THAT IS BELOW THIS LINE\n",
    "\"\"\"\n",
    "tests.test_flatten(flatten)"
   ]
  },
  {
   "cell_type": "markdown",
   "metadata": {},
   "source": [
    "### Fully-Connected Layer\n",
    "Implement the `fully_conn` function to apply a fully connected layer to `x_tensor` with the shape (*Batch Size*, *num_outputs*). Shortcut option: you can use classes from the [TensorFlow Layers](https://www.tensorflow.org/api_docs/python/tf/layers) or [TensorFlow Layers (contrib)](https://www.tensorflow.org/api_guides/python/contrib.layers) packages for this layer. For more of a challenge, only use other TensorFlow packages."
   ]
  },
  {
   "cell_type": "code",
   "execution_count": 94,
   "metadata": {},
   "outputs": [
    {
     "data": {
      "text/plain": [
       "\"\\nDON'T MODIFY ANYTHING IN THIS CELL THAT IS BELOW THIS LINE\\n\""
      ]
     },
     "execution_count": 94,
     "metadata": {},
     "output_type": "execute_result"
    },
    {
     "name": "stdout",
     "output_type": "stream",
     "text": [
      "Tests Passed\n"
     ]
    }
   ],
   "source": [
    "def fully_conn(x_tensor, num_outputs):\n",
    "    \"\"\"\n",
    "    Apply a fully connected layer to x_tensor using weight and bias\n",
    "    : x_tensor: A 2-D tensor where the first dimension is batch size.\n",
    "    : num_outputs: The number of output that the new tensor should be.\n",
    "    : return: A 2-D tensor where the second dimension is num_outputs.\n",
    "    \"\"\"\n",
    "    # TODO: Implement Function\n",
    "    return tf.contrib.layers.fully_connected(x_tensor, num_outputs)\n",
    "\n",
    "\n",
    "\"\"\"\n",
    "DON'T MODIFY ANYTHING IN THIS CELL THAT IS BELOW THIS LINE\n",
    "\"\"\"\n",
    "tests.test_fully_conn(fully_conn)"
   ]
  },
  {
   "cell_type": "markdown",
   "metadata": {},
   "source": [
    "### Output Layer\n",
    "Implement the `output` function to apply a fully connected layer to `x_tensor` with the shape (*Batch Size*, *num_outputs*). Shortcut option: you can use classes from the [TensorFlow Layers](https://www.tensorflow.org/api_docs/python/tf/layers) or [TensorFlow Layers (contrib)](https://www.tensorflow.org/api_guides/python/contrib.layers) packages for this layer. For more of a challenge, only use other TensorFlow packages.\n",
    "\n",
    "**Note:** Activation, softmax, or cross entropy should **not** be applied to this."
   ]
  },
  {
   "cell_type": "code",
   "execution_count": 120,
   "metadata": {},
   "outputs": [
    {
     "data": {
      "text/plain": [
       "\"\\nDON'T MODIFY ANYTHING IN THIS CELL THAT IS BELOW THIS LINE\\n\""
      ]
     },
     "execution_count": 120,
     "metadata": {},
     "output_type": "execute_result"
    },
    {
     "name": "stdout",
     "output_type": "stream",
     "text": [
      "Tests Passed\n"
     ]
    }
   ],
   "source": [
    "def output(x_tensor, num_outputs):\n",
    "    \"\"\"\n",
    "    Apply a output layer to x_tensor using weight and bias\n",
    "    : x_tensor: A 2-D tensor where the first dimension is batch size.\n",
    "    : num_outputs: The number of output that the new tensor should be.\n",
    "    : return: A 2-D tensor where the second dimension is num_outputs.\n",
    "    \"\"\"\n",
    "    # TODO: Implement Function\n",
    "    return tf.contrib.layers.fully_connected(x_tensor, num_outputs\n",
    "                                             , activation_fn=None)\n",
    "\n",
    "\n",
    "\"\"\"\n",
    "DON'T MODIFY ANYTHING IN THIS CELL THAT IS BELOW THIS LINE\n",
    "\"\"\"\n",
    "tests.test_output(output)"
   ]
  },
  {
   "cell_type": "markdown",
   "metadata": {},
   "source": [
    "### Create Convolutional Model\n",
    "Implement the function `conv_net` to create a convolutional neural network model. The function takes in a batch of images, `x`, and outputs logits.  Use the layers you created above to create this model:\n",
    "\n",
    "* Apply 1, 2, or 3 Convolution and Max Pool layers\n",
    "* Apply a Flatten Layer\n",
    "* Apply 1, 2, or 3 Fully Connected Layers\n",
    "* Apply an Output Layer\n",
    "* Return the output\n",
    "* Apply [TensorFlow's Dropout](https://www.tensorflow.org/api_docs/python/tf/nn/dropout) to one or more layers in the model using `keep_prob`. "
   ]
  },
  {
   "cell_type": "code",
   "execution_count": 150,
   "metadata": {},
   "outputs": [
    {
     "data": {
      "text/plain": [
       "\"\\nDON'T MODIFY ANYTHING IN THIS CELL THAT IS BELOW THIS LINE\\n\""
      ]
     },
     "execution_count": 150,
     "metadata": {},
     "output_type": "execute_result"
    },
    {
     "name": "stdout",
     "output_type": "stream",
     "text": [
      "Neural Network Built!\n"
     ]
    }
   ],
   "source": [
    "def conv_net(x, keep_prob):\n",
    "    \"\"\"\n",
    "    Create a convolutional neural network model\n",
    "    : x: Placeholder tensor that holds image data.\n",
    "    : keep_prob: Placeholder tensor that hold dropout keep probability.\n",
    "    : return: Tensor that represents logits\n",
    "    \"\"\"\n",
    "    # TODO: Apply 1, 2, or 3 Convolution and Max Pool layers\n",
    "    #    Play around with different number of outputs, kernel size and stride\n",
    "    # Function Definition from Above:\n",
    "    #    conv2d_maxpool(x_tensor, conv_num_outputs, conv_ksize, conv_strides, pool_ksize, pool_strides)\n",
    "    layer = conv2d_maxpool(x, 6*3, (2,2), (1,1), (2,2), (2,2))\n",
    "    layer = conv2d_maxpool(layer, 16*3, (2,2), (1,1), (2,2), (2,2))\n",
    "\n",
    "    # TODO: Apply a Flatten Layer\n",
    "    # Function Definition from Above:\n",
    "    #   flatten(x_tensor)\n",
    "    layer = flatten(layer)\n",
    "    \n",
    "\n",
    "    # TODO: Apply 1, 2, or 3 Fully Connected Layers\n",
    "    #    Play around with different number of outputs\n",
    "    # Function Definition from Above:\n",
    "    #   fully_conn(x_tensor, num_outputs)\n",
    "    layer = tf.nn.dropout(layer, keep_prob)\n",
    "    layer = fully_conn(layer, 120*3)\n",
    "#     layer = fully_conn(layer, 120)\n",
    "    layer = tf.nn.dropout(layer, keep_prob)\n",
    "#     layer = fully_conn(layer, 84*3)\n",
    "    layer = fully_conn(layer, 84)\n",
    "    \n",
    "    \n",
    "    # TODO: Apply an Output Layer\n",
    "    #    Set this to the number of classes\n",
    "    # Function Definition from Above:\n",
    "    #   output(x_tensor, num_outputs)\n",
    "    layer = output(layer, 10)\n",
    "    \n",
    "    \n",
    "    # TODO: return output\n",
    "    return layer\n",
    "\n",
    "\n",
    "\"\"\"\n",
    "DON'T MODIFY ANYTHING IN THIS CELL THAT IS BELOW THIS LINE\n",
    "\"\"\"\n",
    "\n",
    "##############################\n",
    "## Build the Neural Network ##\n",
    "##############################\n",
    "\n",
    "# Remove previous weights, bias, inputs, etc..\n",
    "tf.reset_default_graph()\n",
    "\n",
    "# Inputs\n",
    "x = neural_net_image_input((32, 32, 3))\n",
    "y = neural_net_label_input(10)\n",
    "keep_prob = neural_net_keep_prob_input()\n",
    "\n",
    "# Model\n",
    "logits = conv_net(x, keep_prob)\n",
    "\n",
    "# Name logits Tensor, so that is can be loaded from disk after training\n",
    "logits = tf.identity(logits, name='logits')\n",
    "\n",
    "# Loss and Optimizer\n",
    "cost = tf.reduce_mean(tf.nn.softmax_cross_entropy_with_logits(logits=logits, labels=y))\n",
    "optimizer = tf.train.AdamOptimizer().minimize(cost)\n",
    "\n",
    "# Accuracy\n",
    "correct_pred = tf.equal(tf.argmax(logits, 1), tf.argmax(y, 1))\n",
    "accuracy = tf.reduce_mean(tf.cast(correct_pred, tf.float32), name='accuracy')\n",
    "\n",
    "tests.test_conv_net(conv_net)"
   ]
  },
  {
   "cell_type": "markdown",
   "metadata": {},
   "source": [
    "## Train the Neural Network\n",
    "### Single Optimization\n",
    "Implement the function `train_neural_network` to do a single optimization.  The optimization should use `optimizer` to optimize in `session` with a `feed_dict` of the following:\n",
    "* `x` for image input\n",
    "* `y` for labels\n",
    "* `keep_prob` for keep probability for dropout\n",
    "\n",
    "This function will be called for each batch, so `tf.global_variables_initializer()` has already been called.\n",
    "\n",
    "Note: Nothing needs to be returned. This function is only optimizing the neural network."
   ]
  },
  {
   "cell_type": "code",
   "execution_count": 77,
   "metadata": {},
   "outputs": [
    {
     "data": {
      "text/plain": [
       "\"\\nDON'T MODIFY ANYTHING IN THIS CELL THAT IS BELOW THIS LINE\\n\""
      ]
     },
     "execution_count": 77,
     "metadata": {},
     "output_type": "execute_result"
    },
    {
     "name": "stdout",
     "output_type": "stream",
     "text": [
      "Tests Passed\n"
     ]
    }
   ],
   "source": [
    "def train_neural_network(session, optimizer, keep_probability, feature_batch, label_batch):\n",
    "    \"\"\"\n",
    "    Optimize the session on a batch of images and labels\n",
    "    : session: Current TensorFlow session\n",
    "    : optimizer: TensorFlow optimizer function\n",
    "    : keep_probability: keep probability\n",
    "    : feature_batch: Batch of Numpy image data\n",
    "    : label_batch: Batch of Numpy label data\n",
    "    \"\"\"\n",
    "    # TODO: Implement Function\n",
    "    session.run(optimizer, feed_dict={x: feature_batch, y: label_batch, keep_prob: keep_probability})\n",
    "\n",
    "\n",
    "\"\"\"\n",
    "DON'T MODIFY ANYTHING IN THIS CELL THAT IS BELOW THIS LINE\n",
    "\"\"\"\n",
    "tests.test_train_nn(train_neural_network)"
   ]
  },
  {
   "cell_type": "markdown",
   "metadata": {},
   "source": [
    "### Show Stats\n",
    "Implement the function `print_stats` to print loss and validation accuracy.  Use the global variables `valid_features` and `valid_labels` to calculate validation accuracy.  Use a keep probability of `1.0` to calculate the loss and validation accuracy."
   ]
  },
  {
   "cell_type": "code",
   "execution_count": 135,
   "metadata": {},
   "outputs": [],
   "source": [
    "def print_stats(session, feature_batch, label_batch, cost, accuracy):\n",
    "    \"\"\"\n",
    "    Print information about loss and validation accuracy\n",
    "    : session: Current TensorFlow session\n",
    "    : feature_batch: Batch of Numpy image data\n",
    "    : label_batch: Batch of Numpy label data\n",
    "    : cost: TensorFlow cost function\n",
    "    : accuracy: TensorFlow accuracy function\n",
    "    \"\"\"\n",
    "    # TODO: Implement Function\n",
    "    c, a = session.run([cost, accuracy],\\\n",
    "                                 feed_dict={x: feature_batch, y: label_batch, keep_prob: 1})\n",
    "    print('@Train(cost/accuracy): (%.3f, %.3f)' % (c,a))\n",
    "    c, a = session.run([cost, accuracy],\\\n",
    "                                 feed_dict={x: valid_features, y: valid_labels, keep_prob: 1})\n",
    "    print('\\t'*6 + '@Validation(cost/accuracy): (%.3f, %.3f)' % (c,a))"
   ]
  },
  {
   "cell_type": "markdown",
   "metadata": {},
   "source": [
    "### Hyperparameters\n",
    "Tune the following parameters:\n",
    "* Set `epochs` to the number of iterations until the network stops learning or start overfitting\n",
    "* Set `batch_size` to the highest number that your machine has memory for.  Most people set them to common sizes of memory:\n",
    " * 64\n",
    " * 128\n",
    " * 256\n",
    " * ...\n",
    "* Set `keep_probability` to the probability of keeping a node using dropout"
   ]
  },
  {
   "cell_type": "code",
   "execution_count": 144,
   "metadata": {
    "collapsed": true
   },
   "outputs": [],
   "source": [
    "# TODO: Tune Parameters\n",
    "epochs = 50\n",
    "batch_size = 512\n",
    "keep_probability = 0.5"
   ]
  },
  {
   "cell_type": "markdown",
   "metadata": {},
   "source": [
    "### Train on a Single CIFAR-10 Batch\n",
    "Instead of training the neural network on all the CIFAR-10 batches of data, let's use a single batch. This should save time while you iterate on the model to get a better accuracy.  Once the final validation accuracy is 50% or greater, run the model on all the data in the next section."
   ]
  },
  {
   "cell_type": "code",
   "execution_count": 151,
   "metadata": {
    "scrolled": true
   },
   "outputs": [
    {
     "data": {
      "text/plain": [
       "\"\\nDON'T MODIFY ANYTHING IN THIS CELL\\n\""
      ]
     },
     "execution_count": 151,
     "metadata": {},
     "output_type": "execute_result"
    },
    {
     "name": "stdout",
     "output_type": "stream",
     "text": [
      "Checking the Training on a Single Batch...\n",
      "Epoch  1, CIFAR-10 Batch 1:  @Train(cost/accuracy): (2.241, 0.172)\n",
      "\t\t\t\t\t\t@Validation(cost/accuracy): (2.235, 0.151)\n",
      "Epoch  2, CIFAR-10 Batch 1:  @Train(cost/accuracy): (2.126, 0.226)\n",
      "\t\t\t\t\t\t@Validation(cost/accuracy): (2.085, 0.255)\n",
      "Epoch  3, CIFAR-10 Batch 1:  @Train(cost/accuracy): (2.060, 0.250)\n",
      "\t\t\t\t\t\t@Validation(cost/accuracy): (2.006, 0.269)\n",
      "Epoch  4, CIFAR-10 Batch 1:  @Train(cost/accuracy): (2.025, 0.284)\n",
      "\t\t\t\t\t\t@Validation(cost/accuracy): (1.969, 0.278)\n",
      "Epoch  5, CIFAR-10 Batch 1:  @Train(cost/accuracy): (1.989, 0.287)\n",
      "\t\t\t\t\t\t@Validation(cost/accuracy): (1.940, 0.291)\n",
      "Epoch  6, CIFAR-10 Batch 1:  @Train(cost/accuracy): (1.952, 0.301)\n",
      "\t\t\t\t\t\t@Validation(cost/accuracy): (1.893, 0.307)\n",
      "Epoch  7, CIFAR-10 Batch 1:  @Train(cost/accuracy): (1.912, 0.301)\n",
      "\t\t\t\t\t\t@Validation(cost/accuracy): (1.847, 0.325)\n",
      "Epoch  8, CIFAR-10 Batch 1:  @Train(cost/accuracy): (1.874, 0.318)\n",
      "\t\t\t\t\t\t@Validation(cost/accuracy): (1.822, 0.339)\n",
      "Epoch  9, CIFAR-10 Batch 1:  @Train(cost/accuracy): (1.819, 0.338)\n",
      "\t\t\t\t\t\t@Validation(cost/accuracy): (1.778, 0.359)\n",
      "Epoch 10, CIFAR-10 Batch 1:  @Train(cost/accuracy): (1.779, 0.348)\n",
      "\t\t\t\t\t\t@Validation(cost/accuracy): (1.729, 0.379)\n",
      "Epoch 11, CIFAR-10 Batch 1:  @Train(cost/accuracy): (1.744, 0.365)\n",
      "\t\t\t\t\t\t@Validation(cost/accuracy): (1.699, 0.391)\n",
      "Epoch 12, CIFAR-10 Batch 1:  @Train(cost/accuracy): (1.708, 0.395)\n",
      "\t\t\t\t\t\t@Validation(cost/accuracy): (1.654, 0.407)\n",
      "Epoch 13, CIFAR-10 Batch 1:  @Train(cost/accuracy): (1.668, 0.409)\n",
      "\t\t\t\t\t\t@Validation(cost/accuracy): (1.629, 0.414)\n",
      "Epoch 14, CIFAR-10 Batch 1:  @Train(cost/accuracy): (1.637, 0.432)\n",
      "\t\t\t\t\t\t@Validation(cost/accuracy): (1.602, 0.428)\n",
      "Epoch 15, CIFAR-10 Batch 1:  @Train(cost/accuracy): (1.613, 0.432)\n",
      "\t\t\t\t\t\t@Validation(cost/accuracy): (1.595, 0.431)\n",
      "Epoch 16, CIFAR-10 Batch 1:  @Train(cost/accuracy): (1.575, 0.470)\n",
      "\t\t\t\t\t\t@Validation(cost/accuracy): (1.575, 0.437)\n",
      "Epoch 17, CIFAR-10 Batch 1:  @Train(cost/accuracy): (1.566, 0.443)\n",
      "\t\t\t\t\t\t@Validation(cost/accuracy): (1.569, 0.442)\n",
      "Epoch 18, CIFAR-10 Batch 1:  @Train(cost/accuracy): (1.549, 0.453)\n",
      "\t\t\t\t\t\t@Validation(cost/accuracy): (1.565, 0.443)\n",
      "Epoch 19, CIFAR-10 Batch 1:  @Train(cost/accuracy): (1.528, 0.453)\n",
      "\t\t\t\t\t\t@Validation(cost/accuracy): (1.567, 0.445)\n",
      "Epoch 20, CIFAR-10 Batch 1:  @Train(cost/accuracy): (1.482, 0.493)\n",
      "\t\t\t\t\t\t@Validation(cost/accuracy): (1.502, 0.469)\n",
      "Epoch 21, CIFAR-10 Batch 1:  @Train(cost/accuracy): (1.468, 0.483)\n",
      "\t\t\t\t\t\t@Validation(cost/accuracy): (1.492, 0.474)\n",
      "Epoch 22, CIFAR-10 Batch 1:  @Train(cost/accuracy): (1.454, 0.483)\n",
      "\t\t\t\t\t\t@Validation(cost/accuracy): (1.498, 0.473)\n",
      "Epoch 23, CIFAR-10 Batch 1:  @Train(cost/accuracy): (1.426, 0.493)\n",
      "\t\t\t\t\t\t@Validation(cost/accuracy): (1.485, 0.478)\n",
      "Epoch 24, CIFAR-10 Batch 1:  @Train(cost/accuracy): (1.406, 0.497)\n",
      "\t\t\t\t\t\t@Validation(cost/accuracy): (1.472, 0.484)\n",
      "Epoch 25, CIFAR-10 Batch 1:  @Train(cost/accuracy): (1.379, 0.520)\n",
      "\t\t\t\t\t\t@Validation(cost/accuracy): (1.460, 0.489)\n",
      "Epoch 26, CIFAR-10 Batch 1:  @Train(cost/accuracy): (1.378, 0.530)\n",
      "\t\t\t\t\t\t@Validation(cost/accuracy): (1.449, 0.489)\n",
      "Epoch 27, CIFAR-10 Batch 1:  @Train(cost/accuracy): (1.350, 0.537)\n",
      "\t\t\t\t\t\t@Validation(cost/accuracy): (1.446, 0.485)\n",
      "Epoch 28, CIFAR-10 Batch 1:  @Train(cost/accuracy): (1.331, 0.544)\n",
      "\t\t\t\t\t\t@Validation(cost/accuracy): (1.429, 0.494)\n",
      "Epoch 29, CIFAR-10 Batch 1:  @Train(cost/accuracy): (1.323, 0.547)\n",
      "\t\t\t\t\t\t@Validation(cost/accuracy): (1.421, 0.496)\n",
      "Epoch 30, CIFAR-10 Batch 1:  @Train(cost/accuracy): (1.301, 0.557)\n",
      "\t\t\t\t\t\t@Validation(cost/accuracy): (1.421, 0.494)\n",
      "Epoch 31, CIFAR-10 Batch 1:  @Train(cost/accuracy): (1.293, 0.537)\n",
      "\t\t\t\t\t\t@Validation(cost/accuracy): (1.426, 0.494)\n",
      "Epoch 32, CIFAR-10 Batch 1:  @Train(cost/accuracy): (1.271, 0.564)\n",
      "\t\t\t\t\t\t@Validation(cost/accuracy): (1.418, 0.494)\n",
      "Epoch 33, CIFAR-10 Batch 1:  @Train(cost/accuracy): (1.261, 0.571)\n",
      "\t\t\t\t\t\t@Validation(cost/accuracy): (1.405, 0.499)\n",
      "Epoch 34, CIFAR-10 Batch 1:  @Train(cost/accuracy): (1.246, 0.584)\n",
      "\t\t\t\t\t\t@Validation(cost/accuracy): (1.411, 0.499)\n",
      "Epoch 35, CIFAR-10 Batch 1:  @Train(cost/accuracy): (1.239, 0.595)\n",
      "\t\t\t\t\t\t@Validation(cost/accuracy): (1.408, 0.498)\n",
      "Epoch 36, CIFAR-10 Batch 1:  @Train(cost/accuracy): (1.218, 0.591)\n",
      "\t\t\t\t\t\t@Validation(cost/accuracy): (1.408, 0.497)\n",
      "Epoch 37, CIFAR-10 Batch 1:  @Train(cost/accuracy): (1.203, 0.601)\n",
      "\t\t\t\t\t\t@Validation(cost/accuracy): (1.387, 0.506)\n",
      "Epoch 38, CIFAR-10 Batch 1:  @Train(cost/accuracy): (1.192, 0.622)\n",
      "\t\t\t\t\t\t@Validation(cost/accuracy): (1.383, 0.510)\n",
      "Epoch 39, CIFAR-10 Batch 1:  @Train(cost/accuracy): (1.167, 0.615)\n",
      "\t\t\t\t\t\t@Validation(cost/accuracy): (1.387, 0.507)\n",
      "Epoch 40, CIFAR-10 Batch 1:  @Train(cost/accuracy): (1.152, 0.625)\n",
      "\t\t\t\t\t\t@Validation(cost/accuracy): (1.375, 0.508)\n",
      "Epoch 41, CIFAR-10 Batch 1:  @Train(cost/accuracy): (1.147, 0.615)\n",
      "\t\t\t\t\t\t@Validation(cost/accuracy): (1.388, 0.503)\n",
      "Epoch 42, CIFAR-10 Batch 1:  @Train(cost/accuracy): (1.134, 0.645)\n",
      "\t\t\t\t\t\t@Validation(cost/accuracy): (1.376, 0.504)\n",
      "Epoch 43, CIFAR-10 Batch 1:  @Train(cost/accuracy): (1.124, 0.635)\n",
      "\t\t\t\t\t\t@Validation(cost/accuracy): (1.373, 0.511)\n",
      "Epoch 44, CIFAR-10 Batch 1:  @Train(cost/accuracy): (1.097, 0.635)\n",
      "\t\t\t\t\t\t@Validation(cost/accuracy): (1.341, 0.516)\n",
      "Epoch 45, CIFAR-10 Batch 1:  @Train(cost/accuracy): (1.082, 0.666)\n",
      "\t\t\t\t\t\t@Validation(cost/accuracy): (1.344, 0.522)\n",
      "Epoch 46, CIFAR-10 Batch 1:  @Train(cost/accuracy): (1.074, 0.632)\n",
      "\t\t\t\t\t\t@Validation(cost/accuracy): (1.347, 0.521)\n",
      "Epoch 47, CIFAR-10 Batch 1:  @Train(cost/accuracy): (1.039, 0.655)\n",
      "\t\t\t\t\t\t@Validation(cost/accuracy): (1.336, 0.523)\n",
      "Epoch 48, CIFAR-10 Batch 1:  @Train(cost/accuracy): (1.026, 0.693)\n",
      "\t\t\t\t\t\t@Validation(cost/accuracy): (1.326, 0.529)\n",
      "Epoch 49, CIFAR-10 Batch 1:  @Train(cost/accuracy): (1.014, 0.686)\n",
      "\t\t\t\t\t\t@Validation(cost/accuracy): (1.324, 0.528)\n",
      "Epoch 50, CIFAR-10 Batch 1:  @Train(cost/accuracy): (0.997, 0.686)\n",
      "\t\t\t\t\t\t@Validation(cost/accuracy): (1.324, 0.525)\n"
     ]
    }
   ],
   "source": [
    "\"\"\"\n",
    "DON'T MODIFY ANYTHING IN THIS CELL\n",
    "\"\"\"\n",
    "print('Checking the Training on a Single Batch...')\n",
    "with tf.Session() as sess:\n",
    "    # Initializing the variables\n",
    "    sess.run(tf.global_variables_initializer())\n",
    "    \n",
    "    # Training cycle\n",
    "    for epoch in range(epochs):\n",
    "        batch_i = 1\n",
    "        for batch_features, batch_labels in helper.load_preprocess_training_batch(batch_i, batch_size):\n",
    "            train_neural_network(sess, optimizer, keep_probability, batch_features, batch_labels)\n",
    "        print('Epoch {:>2}, CIFAR-10 Batch {}:  '.format(epoch + 1, batch_i), end='')\n",
    "        print_stats(sess, batch_features, batch_labels, cost, accuracy)"
   ]
  },
  {
   "cell_type": "markdown",
   "metadata": {},
   "source": [
    "### Fully Train the Model\n",
    "Now that you got a good accuracy with a single CIFAR-10 batch, try it with all five batches."
   ]
  },
  {
   "cell_type": "code",
   "execution_count": 152,
   "metadata": {
    "scrolled": false
   },
   "outputs": [
    {
     "data": {
      "text/plain": [
       "\"\\nDON'T MODIFY ANYTHING IN THIS CELL\\n\""
      ]
     },
     "execution_count": 152,
     "metadata": {},
     "output_type": "execute_result"
    },
    {
     "name": "stdout",
     "output_type": "stream",
     "text": [
      "Training...\n",
      "Epoch  1, CIFAR-10 Batch 1:  @Train(cost/accuracy): (2.273, 0.108)\n",
      "\t\t\t\t\t\t@Validation(cost/accuracy): (2.271, 0.110)\n",
      "Epoch  1, CIFAR-10 Batch 2:  @Train(cost/accuracy): (2.097, 0.233)\n",
      "\t\t\t\t\t\t@Validation(cost/accuracy): (2.122, 0.223)\n",
      "Epoch  1, CIFAR-10 Batch 3:  @Train(cost/accuracy): (2.042, 0.253)\n",
      "\t\t\t\t\t\t@Validation(cost/accuracy): (2.067, 0.240)\n",
      "Epoch  1, CIFAR-10 Batch 4:  @Train(cost/accuracy): (1.984, 0.287)\n",
      "\t\t\t\t\t\t@Validation(cost/accuracy): (2.003, 0.259)\n",
      "Epoch  1, CIFAR-10 Batch 5:  @Train(cost/accuracy): (1.962, 0.321)\n",
      "\t\t\t\t\t\t@Validation(cost/accuracy): (1.968, 0.279)\n",
      "Epoch  2, CIFAR-10 Batch 1:  @Train(cost/accuracy): (2.017, 0.280)\n",
      "\t\t\t\t\t\t@Validation(cost/accuracy): (1.953, 0.280)\n",
      "Epoch  2, CIFAR-10 Batch 2:  @Train(cost/accuracy): (1.920, 0.287)\n",
      "\t\t\t\t\t\t@Validation(cost/accuracy): (1.918, 0.306)\n",
      "Epoch  2, CIFAR-10 Batch 3:  @Train(cost/accuracy): (1.849, 0.348)\n",
      "\t\t\t\t\t\t@Validation(cost/accuracy): (1.889, 0.310)\n",
      "Epoch  2, CIFAR-10 Batch 4:  @Train(cost/accuracy): (1.789, 0.372)\n",
      "\t\t\t\t\t\t@Validation(cost/accuracy): (1.858, 0.323)\n",
      "Epoch  2, CIFAR-10 Batch 5:  @Train(cost/accuracy): (1.829, 0.355)\n",
      "\t\t\t\t\t\t@Validation(cost/accuracy): (1.841, 0.333)\n",
      "Epoch  3, CIFAR-10 Batch 1:  @Train(cost/accuracy): (1.910, 0.318)\n",
      "\t\t\t\t\t\t@Validation(cost/accuracy): (1.820, 0.339)\n",
      "Epoch  3, CIFAR-10 Batch 2:  @Train(cost/accuracy): (1.787, 0.355)\n",
      "\t\t\t\t\t\t@Validation(cost/accuracy): (1.794, 0.354)\n",
      "Epoch  3, CIFAR-10 Batch 3:  @Train(cost/accuracy): (1.695, 0.402)\n",
      "\t\t\t\t\t\t@Validation(cost/accuracy): (1.770, 0.363)\n",
      "Epoch  3, CIFAR-10 Batch 4:  @Train(cost/accuracy): (1.648, 0.422)\n",
      "\t\t\t\t\t\t@Validation(cost/accuracy): (1.749, 0.366)\n",
      "Epoch  3, CIFAR-10 Batch 5:  @Train(cost/accuracy): (1.707, 0.399)\n",
      "\t\t\t\t\t\t@Validation(cost/accuracy): (1.720, 0.381)\n",
      "Epoch  4, CIFAR-10 Batch 1:  @Train(cost/accuracy): (1.795, 0.358)\n",
      "\t\t\t\t\t\t@Validation(cost/accuracy): (1.705, 0.389)\n",
      "Epoch  4, CIFAR-10 Batch 2:  @Train(cost/accuracy): (1.657, 0.392)\n",
      "\t\t\t\t\t\t@Validation(cost/accuracy): (1.675, 0.399)\n",
      "Epoch  4, CIFAR-10 Batch 3:  @Train(cost/accuracy): (1.539, 0.456)\n",
      "\t\t\t\t\t\t@Validation(cost/accuracy): (1.652, 0.406)\n",
      "Epoch  4, CIFAR-10 Batch 4:  @Train(cost/accuracy): (1.525, 0.449)\n",
      "\t\t\t\t\t\t@Validation(cost/accuracy): (1.630, 0.416)\n",
      "Epoch  4, CIFAR-10 Batch 5:  @Train(cost/accuracy): (1.583, 0.432)\n",
      "\t\t\t\t\t\t@Validation(cost/accuracy): (1.609, 0.422)\n",
      "Epoch  5, CIFAR-10 Batch 1:  @Train(cost/accuracy): (1.664, 0.409)\n",
      "\t\t\t\t\t\t@Validation(cost/accuracy): (1.580, 0.434)\n",
      "Epoch  5, CIFAR-10 Batch 2:  @Train(cost/accuracy): (1.527, 0.456)\n",
      "\t\t\t\t\t\t@Validation(cost/accuracy): (1.557, 0.448)\n",
      "Epoch  5, CIFAR-10 Batch 3:  @Train(cost/accuracy): (1.410, 0.497)\n",
      "\t\t\t\t\t\t@Validation(cost/accuracy): (1.546, 0.443)\n",
      "Epoch  5, CIFAR-10 Batch 4:  @Train(cost/accuracy): (1.419, 0.500)\n",
      "\t\t\t\t\t\t@Validation(cost/accuracy): (1.515, 0.453)\n",
      "Epoch  5, CIFAR-10 Batch 5:  @Train(cost/accuracy): (1.480, 0.463)\n",
      "\t\t\t\t\t\t@Validation(cost/accuracy): (1.495, 0.459)\n",
      "Epoch  6, CIFAR-10 Batch 1:  @Train(cost/accuracy): (1.574, 0.446)\n",
      "\t\t\t\t\t\t@Validation(cost/accuracy): (1.486, 0.464)\n",
      "Epoch  6, CIFAR-10 Batch 2:  @Train(cost/accuracy): (1.450, 0.466)\n",
      "\t\t\t\t\t\t@Validation(cost/accuracy): (1.487, 0.467)\n",
      "Epoch  6, CIFAR-10 Batch 3:  @Train(cost/accuracy): (1.327, 0.530)\n",
      "\t\t\t\t\t\t@Validation(cost/accuracy): (1.463, 0.472)\n",
      "Epoch  6, CIFAR-10 Batch 4:  @Train(cost/accuracy): (1.350, 0.503)\n",
      "\t\t\t\t\t\t@Validation(cost/accuracy): (1.449, 0.475)\n",
      "Epoch  6, CIFAR-10 Batch 5:  @Train(cost/accuracy): (1.410, 0.507)\n",
      "\t\t\t\t\t\t@Validation(cost/accuracy): (1.438, 0.476)\n",
      "Epoch  7, CIFAR-10 Batch 1:  @Train(cost/accuracy): (1.515, 0.483)\n",
      "\t\t\t\t\t\t@Validation(cost/accuracy): (1.431, 0.480)\n",
      "Epoch  7, CIFAR-10 Batch 2:  @Train(cost/accuracy): (1.384, 0.514)\n",
      "\t\t\t\t\t\t@Validation(cost/accuracy): (1.444, 0.489)\n",
      "Epoch  7, CIFAR-10 Batch 3:  @Train(cost/accuracy): (1.244, 0.584)\n",
      "\t\t\t\t\t\t@Validation(cost/accuracy): (1.402, 0.493)\n",
      "Epoch  7, CIFAR-10 Batch 4:  @Train(cost/accuracy): (1.293, 0.527)\n",
      "\t\t\t\t\t\t@Validation(cost/accuracy): (1.398, 0.495)\n",
      "Epoch  7, CIFAR-10 Batch 5:  @Train(cost/accuracy): (1.350, 0.520)\n",
      "\t\t\t\t\t\t@Validation(cost/accuracy): (1.379, 0.501)\n",
      "Epoch  8, CIFAR-10 Batch 1:  @Train(cost/accuracy): (1.472, 0.493)\n",
      "\t\t\t\t\t\t@Validation(cost/accuracy): (1.381, 0.499)\n",
      "Epoch  8, CIFAR-10 Batch 2:  @Train(cost/accuracy): (1.337, 0.524)\n",
      "\t\t\t\t\t\t@Validation(cost/accuracy): (1.398, 0.510)\n",
      "Epoch  8, CIFAR-10 Batch 3:  @Train(cost/accuracy): (1.202, 0.578)\n",
      "\t\t\t\t\t\t@Validation(cost/accuracy): (1.375, 0.504)\n",
      "Epoch  8, CIFAR-10 Batch 4:  @Train(cost/accuracy): (1.243, 0.527)\n",
      "\t\t\t\t\t\t@Validation(cost/accuracy): (1.375, 0.506)\n",
      "Epoch  8, CIFAR-10 Batch 5:  @Train(cost/accuracy): (1.296, 0.551)\n",
      "\t\t\t\t\t\t@Validation(cost/accuracy): (1.345, 0.516)\n",
      "Epoch  9, CIFAR-10 Batch 1:  @Train(cost/accuracy): (1.423, 0.500)\n",
      "\t\t\t\t\t\t@Validation(cost/accuracy): (1.347, 0.512)\n",
      "Epoch  9, CIFAR-10 Batch 2:  @Train(cost/accuracy): (1.273, 0.584)\n",
      "\t\t\t\t\t\t@Validation(cost/accuracy): (1.354, 0.521)\n",
      "Epoch  9, CIFAR-10 Batch 3:  @Train(cost/accuracy): (1.169, 0.615)\n",
      "\t\t\t\t\t\t@Validation(cost/accuracy): (1.328, 0.520)\n",
      "Epoch  9, CIFAR-10 Batch 4:  @Train(cost/accuracy): (1.179, 0.578)\n",
      "\t\t\t\t\t\t@Validation(cost/accuracy): (1.326, 0.523)\n",
      "Epoch  9, CIFAR-10 Batch 5:  @Train(cost/accuracy): (1.263, 0.561)\n",
      "\t\t\t\t\t\t@Validation(cost/accuracy): (1.313, 0.531)\n",
      "Epoch 10, CIFAR-10 Batch 1:  @Train(cost/accuracy): (1.387, 0.510)\n",
      "\t\t\t\t\t\t@Validation(cost/accuracy): (1.319, 0.525)\n",
      "Epoch 10, CIFAR-10 Batch 2:  @Train(cost/accuracy): (1.243, 0.588)\n",
      "\t\t\t\t\t\t@Validation(cost/accuracy): (1.318, 0.535)\n",
      "Epoch 10, CIFAR-10 Batch 3:  @Train(cost/accuracy): (1.141, 0.615)\n",
      "\t\t\t\t\t\t@Validation(cost/accuracy): (1.295, 0.539)\n",
      "Epoch 10, CIFAR-10 Batch 4:  @Train(cost/accuracy): (1.130, 0.595)\n",
      "\t\t\t\t\t\t@Validation(cost/accuracy): (1.295, 0.540)\n",
      "Epoch 10, CIFAR-10 Batch 5:  @Train(cost/accuracy): (1.226, 0.588)\n",
      "\t\t\t\t\t\t@Validation(cost/accuracy): (1.288, 0.537)\n",
      "Epoch 11, CIFAR-10 Batch 1:  @Train(cost/accuracy): (1.333, 0.527)\n",
      "\t\t\t\t\t\t@Validation(cost/accuracy): (1.278, 0.541)\n",
      "Epoch 11, CIFAR-10 Batch 2:  @Train(cost/accuracy): (1.207, 0.574)\n",
      "\t\t\t\t\t\t@Validation(cost/accuracy): (1.288, 0.551)\n",
      "Epoch 11, CIFAR-10 Batch 3:  @Train(cost/accuracy): (1.086, 0.628)\n",
      "\t\t\t\t\t\t@Validation(cost/accuracy): (1.258, 0.546)\n",
      "Epoch 11, CIFAR-10 Batch 4:  @Train(cost/accuracy): (1.095, 0.622)\n",
      "\t\t\t\t\t\t@Validation(cost/accuracy): (1.263, 0.550)\n",
      "Epoch 11, CIFAR-10 Batch 5:  @Train(cost/accuracy): (1.180, 0.615)\n",
      "\t\t\t\t\t\t@Validation(cost/accuracy): (1.245, 0.552)\n",
      "Epoch 12, CIFAR-10 Batch 1:  @Train(cost/accuracy): (1.322, 0.520)\n",
      "\t\t\t\t\t\t@Validation(cost/accuracy): (1.277, 0.537)\n",
      "Epoch 12, CIFAR-10 Batch 2:  @Train(cost/accuracy): (1.177, 0.628)\n",
      "\t\t\t\t\t\t@Validation(cost/accuracy): (1.271, 0.552)\n",
      "Epoch 12, CIFAR-10 Batch 3:  @Train(cost/accuracy): (1.071, 0.632)\n",
      "\t\t\t\t\t\t@Validation(cost/accuracy): (1.238, 0.557)\n",
      "Epoch 12, CIFAR-10 Batch 4:  @Train(cost/accuracy): (1.078, 0.628)\n",
      "\t\t\t\t\t\t@Validation(cost/accuracy): (1.243, 0.561)\n",
      "Epoch 12, CIFAR-10 Batch 5:  @Train(cost/accuracy): (1.141, 0.625)\n",
      "\t\t\t\t\t\t@Validation(cost/accuracy): (1.224, 0.563)\n",
      "Epoch 13, CIFAR-10 Batch 1:  @Train(cost/accuracy): (1.262, 0.554)\n",
      "\t\t\t\t\t\t@Validation(cost/accuracy): (1.222, 0.553)\n",
      "Epoch 13, CIFAR-10 Batch 2:  @Train(cost/accuracy): (1.144, 0.611)\n",
      "\t\t\t\t\t\t@Validation(cost/accuracy): (1.245, 0.558)\n",
      "Epoch 13, CIFAR-10 Batch 3:  @Train(cost/accuracy): (1.028, 0.655)\n",
      "\t\t\t\t\t\t@Validation(cost/accuracy): (1.209, 0.561)\n",
      "Epoch 13, CIFAR-10 Batch 4:  @Train(cost/accuracy): (1.041, 0.649)\n",
      "\t\t\t\t\t\t@Validation(cost/accuracy): (1.216, 0.572)\n",
      "Epoch 13, CIFAR-10 Batch 5:  @Train(cost/accuracy): (1.111, 0.615)\n",
      "\t\t\t\t\t\t@Validation(cost/accuracy): (1.203, 0.566)\n",
      "Epoch 14, CIFAR-10 Batch 1:  @Train(cost/accuracy): (1.233, 0.557)\n",
      "\t\t\t\t\t\t@Validation(cost/accuracy): (1.212, 0.562)\n",
      "Epoch 14, CIFAR-10 Batch 2:  @Train(cost/accuracy): (1.105, 0.625)\n",
      "\t\t\t\t\t\t@Validation(cost/accuracy): (1.215, 0.572)\n",
      "Epoch 14, CIFAR-10 Batch 3:  @Train(cost/accuracy): (1.009, 0.655)\n",
      "\t\t\t\t\t\t@Validation(cost/accuracy): (1.191, 0.570)\n",
      "Epoch 14, CIFAR-10 Batch 4:  @Train(cost/accuracy): (1.017, 0.652)\n",
      "\t\t\t\t\t\t@Validation(cost/accuracy): (1.194, 0.577)\n",
      "Epoch 14, CIFAR-10 Batch 5:  @Train(cost/accuracy): (1.079, 0.639)\n",
      "\t\t\t\t\t\t@Validation(cost/accuracy): (1.188, 0.577)\n",
      "Epoch 15, CIFAR-10 Batch 1:  @Train(cost/accuracy): (1.209, 0.588)\n"
     ]
    },
    {
     "name": "stdout",
     "output_type": "stream",
     "text": [
      "\t\t\t\t\t\t@Validation(cost/accuracy): (1.189, 0.572)\n",
      "Epoch 15, CIFAR-10 Batch 2:  @Train(cost/accuracy): (1.085, 0.628)\n",
      "\t\t\t\t\t\t@Validation(cost/accuracy): (1.189, 0.580)\n",
      "Epoch 15, CIFAR-10 Batch 3:  @Train(cost/accuracy): (0.986, 0.662)\n",
      "\t\t\t\t\t\t@Validation(cost/accuracy): (1.169, 0.580)\n",
      "Epoch 15, CIFAR-10 Batch 4:  @Train(cost/accuracy): (1.001, 0.662)\n",
      "\t\t\t\t\t\t@Validation(cost/accuracy): (1.173, 0.586)\n",
      "Epoch 15, CIFAR-10 Batch 5:  @Train(cost/accuracy): (1.054, 0.649)\n",
      "\t\t\t\t\t\t@Validation(cost/accuracy): (1.174, 0.583)\n",
      "Epoch 16, CIFAR-10 Batch 1:  @Train(cost/accuracy): (1.164, 0.591)\n",
      "\t\t\t\t\t\t@Validation(cost/accuracy): (1.160, 0.586)\n",
      "Epoch 16, CIFAR-10 Batch 2:  @Train(cost/accuracy): (1.055, 0.649)\n",
      "\t\t\t\t\t\t@Validation(cost/accuracy): (1.168, 0.589)\n",
      "Epoch 16, CIFAR-10 Batch 3:  @Train(cost/accuracy): (0.951, 0.686)\n",
      "\t\t\t\t\t\t@Validation(cost/accuracy): (1.143, 0.593)\n",
      "Epoch 16, CIFAR-10 Batch 4:  @Train(cost/accuracy): (0.976, 0.659)\n",
      "\t\t\t\t\t\t@Validation(cost/accuracy): (1.151, 0.589)\n",
      "Epoch 16, CIFAR-10 Batch 5:  @Train(cost/accuracy): (1.031, 0.659)\n",
      "\t\t\t\t\t\t@Validation(cost/accuracy): (1.142, 0.597)\n",
      "Epoch 17, CIFAR-10 Batch 1:  @Train(cost/accuracy): (1.139, 0.608)\n",
      "\t\t\t\t\t\t@Validation(cost/accuracy): (1.153, 0.589)\n",
      "Epoch 17, CIFAR-10 Batch 2:  @Train(cost/accuracy): (1.019, 0.652)\n",
      "\t\t\t\t\t\t@Validation(cost/accuracy): (1.150, 0.600)\n",
      "Epoch 17, CIFAR-10 Batch 3:  @Train(cost/accuracy): (0.925, 0.686)\n",
      "\t\t\t\t\t\t@Validation(cost/accuracy): (1.134, 0.595)\n",
      "Epoch 17, CIFAR-10 Batch 4:  @Train(cost/accuracy): (0.959, 0.669)\n",
      "\t\t\t\t\t\t@Validation(cost/accuracy): (1.145, 0.593)\n",
      "Epoch 17, CIFAR-10 Batch 5:  @Train(cost/accuracy): (1.004, 0.662)\n",
      "\t\t\t\t\t\t@Validation(cost/accuracy): (1.133, 0.595)\n",
      "Epoch 18, CIFAR-10 Batch 1:  @Train(cost/accuracy): (1.115, 0.618)\n",
      "\t\t\t\t\t\t@Validation(cost/accuracy): (1.146, 0.591)\n",
      "Epoch 18, CIFAR-10 Batch 2:  @Train(cost/accuracy): (1.004, 0.666)\n",
      "\t\t\t\t\t\t@Validation(cost/accuracy): (1.124, 0.602)\n",
      "Epoch 18, CIFAR-10 Batch 3:  @Train(cost/accuracy): (0.911, 0.689)\n",
      "\t\t\t\t\t\t@Validation(cost/accuracy): (1.114, 0.600)\n",
      "Epoch 18, CIFAR-10 Batch 4:  @Train(cost/accuracy): (0.946, 0.676)\n",
      "\t\t\t\t\t\t@Validation(cost/accuracy): (1.135, 0.593)\n",
      "Epoch 18, CIFAR-10 Batch 5:  @Train(cost/accuracy): (0.989, 0.679)\n",
      "\t\t\t\t\t\t@Validation(cost/accuracy): (1.124, 0.598)\n",
      "Epoch 19, CIFAR-10 Batch 1:  @Train(cost/accuracy): (1.076, 0.632)\n",
      "\t\t\t\t\t\t@Validation(cost/accuracy): (1.124, 0.599)\n",
      "Epoch 19, CIFAR-10 Batch 2:  @Train(cost/accuracy): (0.993, 0.676)\n",
      "\t\t\t\t\t\t@Validation(cost/accuracy): (1.117, 0.611)\n",
      "Epoch 19, CIFAR-10 Batch 3:  @Train(cost/accuracy): (0.893, 0.693)\n",
      "\t\t\t\t\t\t@Validation(cost/accuracy): (1.112, 0.606)\n",
      "Epoch 19, CIFAR-10 Batch 4:  @Train(cost/accuracy): (0.920, 0.686)\n",
      "\t\t\t\t\t\t@Validation(cost/accuracy): (1.118, 0.603)\n",
      "Epoch 19, CIFAR-10 Batch 5:  @Train(cost/accuracy): (0.963, 0.679)\n",
      "\t\t\t\t\t\t@Validation(cost/accuracy): (1.113, 0.609)\n",
      "Epoch 20, CIFAR-10 Batch 1:  @Train(cost/accuracy): (1.062, 0.632)\n",
      "\t\t\t\t\t\t@Validation(cost/accuracy): (1.119, 0.606)\n",
      "Epoch 20, CIFAR-10 Batch 2:  @Train(cost/accuracy): (0.972, 0.686)\n",
      "\t\t\t\t\t\t@Validation(cost/accuracy): (1.109, 0.608)\n",
      "Epoch 20, CIFAR-10 Batch 3:  @Train(cost/accuracy): (0.871, 0.703)\n",
      "\t\t\t\t\t\t@Validation(cost/accuracy): (1.101, 0.608)\n",
      "Epoch 20, CIFAR-10 Batch 4:  @Train(cost/accuracy): (0.907, 0.689)\n",
      "\t\t\t\t\t\t@Validation(cost/accuracy): (1.109, 0.605)\n",
      "Epoch 20, CIFAR-10 Batch 5:  @Train(cost/accuracy): (0.941, 0.699)\n",
      "\t\t\t\t\t\t@Validation(cost/accuracy): (1.104, 0.612)\n",
      "Epoch 21, CIFAR-10 Batch 1:  @Train(cost/accuracy): (1.046, 0.659)\n",
      "\t\t\t\t\t\t@Validation(cost/accuracy): (1.090, 0.618)\n",
      "Epoch 21, CIFAR-10 Batch 2:  @Train(cost/accuracy): (0.946, 0.682)\n",
      "\t\t\t\t\t\t@Validation(cost/accuracy): (1.087, 0.614)\n",
      "Epoch 21, CIFAR-10 Batch 3:  @Train(cost/accuracy): (0.867, 0.720)\n",
      "\t\t\t\t\t\t@Validation(cost/accuracy): (1.090, 0.619)\n",
      "Epoch 21, CIFAR-10 Batch 4:  @Train(cost/accuracy): (0.902, 0.679)\n",
      "\t\t\t\t\t\t@Validation(cost/accuracy): (1.105, 0.609)\n",
      "Epoch 21, CIFAR-10 Batch 5:  @Train(cost/accuracy): (0.919, 0.706)\n",
      "\t\t\t\t\t\t@Validation(cost/accuracy): (1.096, 0.620)\n",
      "Epoch 22, CIFAR-10 Batch 1:  @Train(cost/accuracy): (1.031, 0.666)\n",
      "\t\t\t\t\t\t@Validation(cost/accuracy): (1.090, 0.616)\n",
      "Epoch 22, CIFAR-10 Batch 2:  @Train(cost/accuracy): (0.932, 0.696)\n",
      "\t\t\t\t\t\t@Validation(cost/accuracy): (1.083, 0.621)\n",
      "Epoch 22, CIFAR-10 Batch 3:  @Train(cost/accuracy): (0.841, 0.720)\n",
      "\t\t\t\t\t\t@Validation(cost/accuracy): (1.073, 0.621)\n",
      "Epoch 22, CIFAR-10 Batch 4:  @Train(cost/accuracy): (0.892, 0.693)\n",
      "\t\t\t\t\t\t@Validation(cost/accuracy): (1.097, 0.608)\n",
      "Epoch 22, CIFAR-10 Batch 5:  @Train(cost/accuracy): (0.913, 0.709)\n",
      "\t\t\t\t\t\t@Validation(cost/accuracy): (1.096, 0.616)\n",
      "Epoch 23, CIFAR-10 Batch 1:  @Train(cost/accuracy): (1.003, 0.649)\n",
      "\t\t\t\t\t\t@Validation(cost/accuracy): (1.077, 0.618)\n",
      "Epoch 23, CIFAR-10 Batch 2:  @Train(cost/accuracy): (0.918, 0.693)\n",
      "\t\t\t\t\t\t@Validation(cost/accuracy): (1.073, 0.623)\n",
      "Epoch 23, CIFAR-10 Batch 3:  @Train(cost/accuracy): (0.821, 0.723)\n",
      "\t\t\t\t\t\t@Validation(cost/accuracy): (1.061, 0.628)\n",
      "Epoch 23, CIFAR-10 Batch 4:  @Train(cost/accuracy): (0.857, 0.726)\n",
      "\t\t\t\t\t\t@Validation(cost/accuracy): (1.075, 0.625)\n",
      "Epoch 23, CIFAR-10 Batch 5:  @Train(cost/accuracy): (0.880, 0.723)\n",
      "\t\t\t\t\t\t@Validation(cost/accuracy): (1.069, 0.626)\n",
      "Epoch 24, CIFAR-10 Batch 1:  @Train(cost/accuracy): (1.003, 0.672)\n",
      "\t\t\t\t\t\t@Validation(cost/accuracy): (1.062, 0.633)\n",
      "Epoch 24, CIFAR-10 Batch 2:  @Train(cost/accuracy): (0.902, 0.709)\n",
      "\t\t\t\t\t\t@Validation(cost/accuracy): (1.062, 0.630)\n",
      "Epoch 24, CIFAR-10 Batch 3:  @Train(cost/accuracy): (0.814, 0.716)\n",
      "\t\t\t\t\t\t@Validation(cost/accuracy): (1.056, 0.628)\n",
      "Epoch 24, CIFAR-10 Batch 4:  @Train(cost/accuracy): (0.857, 0.713)\n",
      "\t\t\t\t\t\t@Validation(cost/accuracy): (1.069, 0.627)\n",
      "Epoch 24, CIFAR-10 Batch 5:  @Train(cost/accuracy): (0.869, 0.716)\n",
      "\t\t\t\t\t\t@Validation(cost/accuracy): (1.070, 0.621)\n",
      "Epoch 25, CIFAR-10 Batch 1:  @Train(cost/accuracy): (0.976, 0.666)\n",
      "\t\t\t\t\t\t@Validation(cost/accuracy): (1.063, 0.627)\n",
      "Epoch 25, CIFAR-10 Batch 2:  @Train(cost/accuracy): (0.886, 0.726)\n",
      "\t\t\t\t\t\t@Validation(cost/accuracy): (1.050, 0.632)\n",
      "Epoch 25, CIFAR-10 Batch 3:  @Train(cost/accuracy): (0.797, 0.726)\n",
      "\t\t\t\t\t\t@Validation(cost/accuracy): (1.042, 0.638)\n",
      "Epoch 25, CIFAR-10 Batch 4:  @Train(cost/accuracy): (0.832, 0.723)\n",
      "\t\t\t\t\t\t@Validation(cost/accuracy): (1.049, 0.633)\n",
      "Epoch 25, CIFAR-10 Batch 5:  @Train(cost/accuracy): (0.853, 0.720)\n",
      "\t\t\t\t\t\t@Validation(cost/accuracy): (1.052, 0.631)\n",
      "Epoch 26, CIFAR-10 Batch 1:  @Train(cost/accuracy): (0.951, 0.676)\n",
      "\t\t\t\t\t\t@Validation(cost/accuracy): (1.043, 0.637)\n",
      "Epoch 26, CIFAR-10 Batch 2:  @Train(cost/accuracy): (0.893, 0.713)\n",
      "\t\t\t\t\t\t@Validation(cost/accuracy): (1.056, 0.625)\n",
      "Epoch 26, CIFAR-10 Batch 3:  @Train(cost/accuracy): (0.770, 0.733)\n",
      "\t\t\t\t\t\t@Validation(cost/accuracy): (1.034, 0.636)\n",
      "Epoch 26, CIFAR-10 Batch 4:  @Train(cost/accuracy): (0.831, 0.747)\n",
      "\t\t\t\t\t\t@Validation(cost/accuracy): (1.049, 0.636)\n",
      "Epoch 26, CIFAR-10 Batch 5:  @Train(cost/accuracy): (0.843, 0.750)\n",
      "\t\t\t\t\t\t@Validation(cost/accuracy): (1.042, 0.631)\n",
      "Epoch 27, CIFAR-10 Batch 1:  @Train(cost/accuracy): (0.938, 0.679)\n",
      "\t\t\t\t\t\t@Validation(cost/accuracy): (1.044, 0.634)\n",
      "Epoch 27, CIFAR-10 Batch 2:  @Train(cost/accuracy): (0.872, 0.709)\n",
      "\t\t\t\t\t\t@Validation(cost/accuracy): (1.034, 0.638)\n",
      "Epoch 27, CIFAR-10 Batch 3:  @Train(cost/accuracy): (0.772, 0.753)\n",
      "\t\t\t\t\t\t@Validation(cost/accuracy): (1.029, 0.639)\n",
      "Epoch 27, CIFAR-10 Batch 4:  @Train(cost/accuracy): (0.805, 0.753)\n",
      "\t\t\t\t\t\t@Validation(cost/accuracy): (1.038, 0.640)\n",
      "Epoch 27, CIFAR-10 Batch 5:  @Train(cost/accuracy): (0.842, 0.716)\n",
      "\t\t\t\t\t\t@Validation(cost/accuracy): (1.070, 0.620)\n",
      "Epoch 28, CIFAR-10 Batch 1:  @Train(cost/accuracy): (0.921, 0.693)\n",
      "\t\t\t\t\t\t@Validation(cost/accuracy): (1.037, 0.632)\n",
      "Epoch 28, CIFAR-10 Batch 2:  @Train(cost/accuracy): (0.869, 0.726)\n",
      "\t\t\t\t\t\t@Validation(cost/accuracy): (1.045, 0.634)\n",
      "Epoch 28, CIFAR-10 Batch 3:  @Train(cost/accuracy): (0.760, 0.743)\n",
      "\t\t\t\t\t\t@Validation(cost/accuracy): (1.031, 0.637)\n",
      "Epoch 28, CIFAR-10 Batch 4:  @Train(cost/accuracy): (0.806, 0.743)\n",
      "\t\t\t\t\t\t@Validation(cost/accuracy): (1.040, 0.637)\n",
      "Epoch 28, CIFAR-10 Batch 5:  @Train(cost/accuracy): (0.821, 0.740)\n",
      "\t\t\t\t\t\t@Validation(cost/accuracy): (1.037, 0.643)\n",
      "Epoch 29, CIFAR-10 Batch 1:  @Train(cost/accuracy): (0.911, 0.689)\n",
      "\t\t\t\t\t\t@Validation(cost/accuracy): (1.028, 0.647)\n"
     ]
    },
    {
     "name": "stdout",
     "output_type": "stream",
     "text": [
      "Epoch 29, CIFAR-10 Batch 2:  @Train(cost/accuracy): (0.848, 0.726)\n",
      "\t\t\t\t\t\t@Validation(cost/accuracy): (1.028, 0.637)\n",
      "Epoch 29, CIFAR-10 Batch 3:  @Train(cost/accuracy): (0.740, 0.760)\n",
      "\t\t\t\t\t\t@Validation(cost/accuracy): (1.017, 0.642)\n",
      "Epoch 29, CIFAR-10 Batch 4:  @Train(cost/accuracy): (0.768, 0.750)\n",
      "\t\t\t\t\t\t@Validation(cost/accuracy): (1.021, 0.641)\n",
      "Epoch 29, CIFAR-10 Batch 5:  @Train(cost/accuracy): (0.809, 0.743)\n",
      "\t\t\t\t\t\t@Validation(cost/accuracy): (1.033, 0.638)\n",
      "Epoch 30, CIFAR-10 Batch 1:  @Train(cost/accuracy): (0.903, 0.672)\n",
      "\t\t\t\t\t\t@Validation(cost/accuracy): (1.018, 0.642)\n",
      "Epoch 30, CIFAR-10 Batch 2:  @Train(cost/accuracy): (0.832, 0.733)\n",
      "\t\t\t\t\t\t@Validation(cost/accuracy): (1.016, 0.640)\n",
      "Epoch 30, CIFAR-10 Batch 3:  @Train(cost/accuracy): (0.736, 0.750)\n",
      "\t\t\t\t\t\t@Validation(cost/accuracy): (1.021, 0.641)\n",
      "Epoch 30, CIFAR-10 Batch 4:  @Train(cost/accuracy): (0.791, 0.753)\n",
      "\t\t\t\t\t\t@Validation(cost/accuracy): (1.033, 0.645)\n",
      "Epoch 30, CIFAR-10 Batch 5:  @Train(cost/accuracy): (0.786, 0.753)\n",
      "\t\t\t\t\t\t@Validation(cost/accuracy): (1.016, 0.649)\n",
      "Epoch 31, CIFAR-10 Batch 1:  @Train(cost/accuracy): (0.882, 0.689)\n",
      "\t\t\t\t\t\t@Validation(cost/accuracy): (1.023, 0.640)\n",
      "Epoch 31, CIFAR-10 Batch 2:  @Train(cost/accuracy): (0.832, 0.736)\n",
      "\t\t\t\t\t\t@Validation(cost/accuracy): (1.019, 0.642)\n",
      "Epoch 31, CIFAR-10 Batch 3:  @Train(cost/accuracy): (0.734, 0.760)\n",
      "\t\t\t\t\t\t@Validation(cost/accuracy): (1.007, 0.646)\n",
      "Epoch 31, CIFAR-10 Batch 4:  @Train(cost/accuracy): (0.776, 0.750)\n",
      "\t\t\t\t\t\t@Validation(cost/accuracy): (1.024, 0.641)\n",
      "Epoch 31, CIFAR-10 Batch 5:  @Train(cost/accuracy): (0.774, 0.743)\n",
      "\t\t\t\t\t\t@Validation(cost/accuracy): (1.007, 0.653)\n",
      "Epoch 32, CIFAR-10 Batch 1:  @Train(cost/accuracy): (0.890, 0.682)\n",
      "\t\t\t\t\t\t@Validation(cost/accuracy): (1.013, 0.649)\n",
      "Epoch 32, CIFAR-10 Batch 2:  @Train(cost/accuracy): (0.804, 0.740)\n",
      "\t\t\t\t\t\t@Validation(cost/accuracy): (1.002, 0.647)\n",
      "Epoch 32, CIFAR-10 Batch 3:  @Train(cost/accuracy): (0.709, 0.770)\n",
      "\t\t\t\t\t\t@Validation(cost/accuracy): (0.999, 0.648)\n",
      "Epoch 32, CIFAR-10 Batch 4:  @Train(cost/accuracy): (0.762, 0.740)\n",
      "\t\t\t\t\t\t@Validation(cost/accuracy): (1.011, 0.650)\n",
      "Epoch 32, CIFAR-10 Batch 5:  @Train(cost/accuracy): (0.761, 0.777)\n",
      "\t\t\t\t\t\t@Validation(cost/accuracy): (1.011, 0.649)\n",
      "Epoch 33, CIFAR-10 Batch 1:  @Train(cost/accuracy): (0.880, 0.699)\n",
      "\t\t\t\t\t\t@Validation(cost/accuracy): (1.003, 0.648)\n",
      "Epoch 33, CIFAR-10 Batch 2:  @Train(cost/accuracy): (0.806, 0.730)\n",
      "\t\t\t\t\t\t@Validation(cost/accuracy): (1.012, 0.646)\n",
      "Epoch 33, CIFAR-10 Batch 3:  @Train(cost/accuracy): (0.701, 0.780)\n",
      "\t\t\t\t\t\t@Validation(cost/accuracy): (0.997, 0.649)\n",
      "Epoch 33, CIFAR-10 Batch 4:  @Train(cost/accuracy): (0.753, 0.753)\n",
      "\t\t\t\t\t\t@Validation(cost/accuracy): (1.008, 0.652)\n",
      "Epoch 33, CIFAR-10 Batch 5:  @Train(cost/accuracy): (0.745, 0.757)\n",
      "\t\t\t\t\t\t@Validation(cost/accuracy): (0.991, 0.655)\n",
      "Epoch 34, CIFAR-10 Batch 1:  @Train(cost/accuracy): (0.844, 0.699)\n",
      "\t\t\t\t\t\t@Validation(cost/accuracy): (0.993, 0.649)\n",
      "Epoch 34, CIFAR-10 Batch 2:  @Train(cost/accuracy): (0.801, 0.774)\n",
      "\t\t\t\t\t\t@Validation(cost/accuracy): (1.013, 0.644)\n",
      "Epoch 34, CIFAR-10 Batch 3:  @Train(cost/accuracy): (0.688, 0.774)\n",
      "\t\t\t\t\t\t@Validation(cost/accuracy): (0.986, 0.654)\n",
      "Epoch 34, CIFAR-10 Batch 4:  @Train(cost/accuracy): (0.746, 0.764)\n",
      "\t\t\t\t\t\t@Validation(cost/accuracy): (1.004, 0.649)\n",
      "Epoch 34, CIFAR-10 Batch 5:  @Train(cost/accuracy): (0.736, 0.774)\n",
      "\t\t\t\t\t\t@Validation(cost/accuracy): (1.004, 0.650)\n",
      "Epoch 35, CIFAR-10 Batch 1:  @Train(cost/accuracy): (0.837, 0.720)\n",
      "\t\t\t\t\t\t@Validation(cost/accuracy): (0.990, 0.654)\n",
      "Epoch 35, CIFAR-10 Batch 2:  @Train(cost/accuracy): (0.775, 0.780)\n",
      "\t\t\t\t\t\t@Validation(cost/accuracy): (0.995, 0.656)\n",
      "Epoch 35, CIFAR-10 Batch 3:  @Train(cost/accuracy): (0.687, 0.784)\n",
      "\t\t\t\t\t\t@Validation(cost/accuracy): (0.994, 0.657)\n",
      "Epoch 35, CIFAR-10 Batch 4:  @Train(cost/accuracy): (0.720, 0.760)\n",
      "\t\t\t\t\t\t@Validation(cost/accuracy): (0.987, 0.655)\n",
      "Epoch 35, CIFAR-10 Batch 5:  @Train(cost/accuracy): (0.743, 0.764)\n",
      "\t\t\t\t\t\t@Validation(cost/accuracy): (0.997, 0.660)\n",
      "Epoch 36, CIFAR-10 Batch 1:  @Train(cost/accuracy): (0.831, 0.709)\n",
      "\t\t\t\t\t\t@Validation(cost/accuracy): (0.984, 0.657)\n",
      "Epoch 36, CIFAR-10 Batch 2:  @Train(cost/accuracy): (0.771, 0.780)\n",
      "\t\t\t\t\t\t@Validation(cost/accuracy): (0.990, 0.655)\n",
      "Epoch 36, CIFAR-10 Batch 3:  @Train(cost/accuracy): (0.671, 0.780)\n",
      "\t\t\t\t\t\t@Validation(cost/accuracy): (0.980, 0.657)\n",
      "Epoch 36, CIFAR-10 Batch 4:  @Train(cost/accuracy): (0.715, 0.767)\n",
      "\t\t\t\t\t\t@Validation(cost/accuracy): (0.990, 0.655)\n",
      "Epoch 36, CIFAR-10 Batch 5:  @Train(cost/accuracy): (0.704, 0.780)\n",
      "\t\t\t\t\t\t@Validation(cost/accuracy): (0.979, 0.657)\n",
      "Epoch 37, CIFAR-10 Batch 1:  @Train(cost/accuracy): (0.823, 0.733)\n",
      "\t\t\t\t\t\t@Validation(cost/accuracy): (0.994, 0.649)\n",
      "Epoch 37, CIFAR-10 Batch 2:  @Train(cost/accuracy): (0.759, 0.777)\n",
      "\t\t\t\t\t\t@Validation(cost/accuracy): (0.986, 0.653)\n",
      "Epoch 37, CIFAR-10 Batch 3:  @Train(cost/accuracy): (0.661, 0.784)\n",
      "\t\t\t\t\t\t@Validation(cost/accuracy): (0.975, 0.656)\n",
      "Epoch 37, CIFAR-10 Batch 4:  @Train(cost/accuracy): (0.717, 0.757)\n",
      "\t\t\t\t\t\t@Validation(cost/accuracy): (0.997, 0.654)\n",
      "Epoch 37, CIFAR-10 Batch 5:  @Train(cost/accuracy): (0.695, 0.787)\n",
      "\t\t\t\t\t\t@Validation(cost/accuracy): (0.979, 0.656)\n",
      "Epoch 38, CIFAR-10 Batch 1:  @Train(cost/accuracy): (0.823, 0.720)\n",
      "\t\t\t\t\t\t@Validation(cost/accuracy): (0.985, 0.655)\n",
      "Epoch 38, CIFAR-10 Batch 2:  @Train(cost/accuracy): (0.748, 0.760)\n",
      "\t\t\t\t\t\t@Validation(cost/accuracy): (0.978, 0.664)\n",
      "Epoch 38, CIFAR-10 Batch 3:  @Train(cost/accuracy): (0.665, 0.777)\n",
      "\t\t\t\t\t\t@Validation(cost/accuracy): (0.975, 0.658)\n",
      "Epoch 38, CIFAR-10 Batch 4:  @Train(cost/accuracy): (0.717, 0.747)\n",
      "\t\t\t\t\t\t@Validation(cost/accuracy): (0.996, 0.653)\n",
      "Epoch 38, CIFAR-10 Batch 5:  @Train(cost/accuracy): (0.704, 0.767)\n",
      "\t\t\t\t\t\t@Validation(cost/accuracy): (0.979, 0.660)\n",
      "Epoch 39, CIFAR-10 Batch 1:  @Train(cost/accuracy): (0.817, 0.706)\n",
      "\t\t\t\t\t\t@Validation(cost/accuracy): (0.984, 0.657)\n",
      "Epoch 39, CIFAR-10 Batch 2:  @Train(cost/accuracy): (0.759, 0.757)\n",
      "\t\t\t\t\t\t@Validation(cost/accuracy): (0.986, 0.651)\n",
      "Epoch 39, CIFAR-10 Batch 3:  @Train(cost/accuracy): (0.659, 0.791)\n",
      "\t\t\t\t\t\t@Validation(cost/accuracy): (0.969, 0.664)\n",
      "Epoch 39, CIFAR-10 Batch 4:  @Train(cost/accuracy): (0.704, 0.764)\n",
      "\t\t\t\t\t\t@Validation(cost/accuracy): (0.978, 0.659)\n",
      "Epoch 39, CIFAR-10 Batch 5:  @Train(cost/accuracy): (0.680, 0.787)\n",
      "\t\t\t\t\t\t@Validation(cost/accuracy): (0.963, 0.661)\n",
      "Epoch 40, CIFAR-10 Batch 1:  @Train(cost/accuracy): (0.796, 0.723)\n",
      "\t\t\t\t\t\t@Validation(cost/accuracy): (0.967, 0.664)\n",
      "Epoch 40, CIFAR-10 Batch 2:  @Train(cost/accuracy): (0.733, 0.791)\n",
      "\t\t\t\t\t\t@Validation(cost/accuracy): (0.965, 0.663)\n",
      "Epoch 40, CIFAR-10 Batch 3:  @Train(cost/accuracy): (0.647, 0.787)\n",
      "\t\t\t\t\t\t@Validation(cost/accuracy): (0.967, 0.660)\n",
      "Epoch 40, CIFAR-10 Batch 4:  @Train(cost/accuracy): (0.680, 0.794)\n",
      "\t\t\t\t\t\t@Validation(cost/accuracy): (0.969, 0.663)\n",
      "Epoch 40, CIFAR-10 Batch 5:  @Train(cost/accuracy): (0.687, 0.787)\n",
      "\t\t\t\t\t\t@Validation(cost/accuracy): (0.961, 0.665)\n",
      "Epoch 41, CIFAR-10 Batch 1:  @Train(cost/accuracy): (0.798, 0.720)\n",
      "\t\t\t\t\t\t@Validation(cost/accuracy): (0.964, 0.660)\n",
      "Epoch 41, CIFAR-10 Batch 2:  @Train(cost/accuracy): (0.718, 0.784)\n",
      "\t\t\t\t\t\t@Validation(cost/accuracy): (0.961, 0.666)\n",
      "Epoch 41, CIFAR-10 Batch 3:  @Train(cost/accuracy): (0.648, 0.797)\n",
      "\t\t\t\t\t\t@Validation(cost/accuracy): (0.964, 0.660)\n",
      "Epoch 41, CIFAR-10 Batch 4:  @Train(cost/accuracy): (0.671, 0.787)\n",
      "\t\t\t\t\t\t@Validation(cost/accuracy): (0.967, 0.662)\n",
      "Epoch 41, CIFAR-10 Batch 5:  @Train(cost/accuracy): (0.680, 0.794)\n",
      "\t\t\t\t\t\t@Validation(cost/accuracy): (0.963, 0.664)\n",
      "Epoch 42, CIFAR-10 Batch 1:  @Train(cost/accuracy): (0.782, 0.723)\n",
      "\t\t\t\t\t\t@Validation(cost/accuracy): (0.955, 0.669)\n",
      "Epoch 42, CIFAR-10 Batch 2:  @Train(cost/accuracy): (0.709, 0.784)\n",
      "\t\t\t\t\t\t@Validation(cost/accuracy): (0.958, 0.666)\n",
      "Epoch 42, CIFAR-10 Batch 3:  @Train(cost/accuracy): (0.631, 0.797)\n",
      "\t\t\t\t\t\t@Validation(cost/accuracy): (0.954, 0.664)\n",
      "Epoch 42, CIFAR-10 Batch 4:  @Train(cost/accuracy): (0.663, 0.794)\n",
      "\t\t\t\t\t\t@Validation(cost/accuracy): (0.957, 0.670)\n",
      "Epoch 42, CIFAR-10 Batch 5:  @Train(cost/accuracy): (0.664, 0.787)\n",
      "\t\t\t\t\t\t@Validation(cost/accuracy): (0.957, 0.665)\n",
      "Epoch 43, CIFAR-10 Batch 1:  @Train(cost/accuracy): (0.776, 0.736)\n",
      "\t\t\t\t\t\t@Validation(cost/accuracy): (0.957, 0.668)\n",
      "Epoch 43, CIFAR-10 Batch 2:  @Train(cost/accuracy): (0.713, 0.791)\n",
      "\t\t\t\t\t\t@Validation(cost/accuracy): (0.956, 0.668)\n"
     ]
    },
    {
     "name": "stdout",
     "output_type": "stream",
     "text": [
      "Epoch 43, CIFAR-10 Batch 3:  @Train(cost/accuracy): (0.634, 0.814)\n",
      "\t\t\t\t\t\t@Validation(cost/accuracy): (0.960, 0.663)\n",
      "Epoch 43, CIFAR-10 Batch 4:  @Train(cost/accuracy): (0.653, 0.794)\n",
      "\t\t\t\t\t\t@Validation(cost/accuracy): (0.957, 0.665)\n",
      "Epoch 43, CIFAR-10 Batch 5:  @Train(cost/accuracy): (0.657, 0.804)\n",
      "\t\t\t\t\t\t@Validation(cost/accuracy): (0.953, 0.666)\n",
      "Epoch 44, CIFAR-10 Batch 1:  @Train(cost/accuracy): (0.790, 0.726)\n",
      "\t\t\t\t\t\t@Validation(cost/accuracy): (0.969, 0.661)\n",
      "Epoch 44, CIFAR-10 Batch 2:  @Train(cost/accuracy): (0.707, 0.770)\n",
      "\t\t\t\t\t\t@Validation(cost/accuracy): (0.954, 0.671)\n",
      "Epoch 44, CIFAR-10 Batch 3:  @Train(cost/accuracy): (0.617, 0.821)\n",
      "\t\t\t\t\t\t@Validation(cost/accuracy): (0.948, 0.666)\n",
      "Epoch 44, CIFAR-10 Batch 4:  @Train(cost/accuracy): (0.645, 0.797)\n",
      "\t\t\t\t\t\t@Validation(cost/accuracy): (0.953, 0.667)\n",
      "Epoch 44, CIFAR-10 Batch 5:  @Train(cost/accuracy): (0.654, 0.818)\n",
      "\t\t\t\t\t\t@Validation(cost/accuracy): (0.952, 0.668)\n",
      "Epoch 45, CIFAR-10 Batch 1:  @Train(cost/accuracy): (0.755, 0.733)\n",
      "\t\t\t\t\t\t@Validation(cost/accuracy): (0.953, 0.665)\n",
      "Epoch 45, CIFAR-10 Batch 2:  @Train(cost/accuracy): (0.707, 0.770)\n",
      "\t\t\t\t\t\t@Validation(cost/accuracy): (0.958, 0.667)\n",
      "Epoch 45, CIFAR-10 Batch 3:  @Train(cost/accuracy): (0.610, 0.828)\n",
      "\t\t\t\t\t\t@Validation(cost/accuracy): (0.950, 0.668)\n",
      "Epoch 45, CIFAR-10 Batch 4:  @Train(cost/accuracy): (0.641, 0.804)\n",
      "\t\t\t\t\t\t@Validation(cost/accuracy): (0.951, 0.670)\n",
      "Epoch 45, CIFAR-10 Batch 5:  @Train(cost/accuracy): (0.654, 0.804)\n",
      "\t\t\t\t\t\t@Validation(cost/accuracy): (0.945, 0.671)\n",
      "Epoch 46, CIFAR-10 Batch 1:  @Train(cost/accuracy): (0.762, 0.747)\n",
      "\t\t\t\t\t\t@Validation(cost/accuracy): (0.950, 0.670)\n",
      "Epoch 46, CIFAR-10 Batch 2:  @Train(cost/accuracy): (0.702, 0.787)\n",
      "\t\t\t\t\t\t@Validation(cost/accuracy): (0.950, 0.669)\n",
      "Epoch 46, CIFAR-10 Batch 3:  @Train(cost/accuracy): (0.592, 0.818)\n",
      "\t\t\t\t\t\t@Validation(cost/accuracy): (0.939, 0.672)\n",
      "Epoch 46, CIFAR-10 Batch 4:  @Train(cost/accuracy): (0.644, 0.777)\n",
      "\t\t\t\t\t\t@Validation(cost/accuracy): (0.952, 0.665)\n",
      "Epoch 46, CIFAR-10 Batch 5:  @Train(cost/accuracy): (0.642, 0.811)\n",
      "\t\t\t\t\t\t@Validation(cost/accuracy): (0.948, 0.671)\n",
      "Epoch 47, CIFAR-10 Batch 1:  @Train(cost/accuracy): (0.742, 0.760)\n",
      "\t\t\t\t\t\t@Validation(cost/accuracy): (0.945, 0.670)\n",
      "Epoch 47, CIFAR-10 Batch 2:  @Train(cost/accuracy): (0.678, 0.804)\n",
      "\t\t\t\t\t\t@Validation(cost/accuracy): (0.937, 0.673)\n",
      "Epoch 47, CIFAR-10 Batch 3:  @Train(cost/accuracy): (0.605, 0.814)\n",
      "\t\t\t\t\t\t@Validation(cost/accuracy): (0.944, 0.671)\n",
      "Epoch 47, CIFAR-10 Batch 4:  @Train(cost/accuracy): (0.628, 0.801)\n",
      "\t\t\t\t\t\t@Validation(cost/accuracy): (0.945, 0.674)\n",
      "Epoch 47, CIFAR-10 Batch 5:  @Train(cost/accuracy): (0.630, 0.814)\n",
      "\t\t\t\t\t\t@Validation(cost/accuracy): (0.944, 0.670)\n",
      "Epoch 48, CIFAR-10 Batch 1:  @Train(cost/accuracy): (0.719, 0.767)\n",
      "\t\t\t\t\t\t@Validation(cost/accuracy): (0.942, 0.672)\n",
      "Epoch 48, CIFAR-10 Batch 2:  @Train(cost/accuracy): (0.670, 0.801)\n",
      "\t\t\t\t\t\t@Validation(cost/accuracy): (0.937, 0.675)\n",
      "Epoch 48, CIFAR-10 Batch 3:  @Train(cost/accuracy): (0.582, 0.824)\n",
      "\t\t\t\t\t\t@Validation(cost/accuracy): (0.935, 0.669)\n",
      "Epoch 48, CIFAR-10 Batch 4:  @Train(cost/accuracy): (0.621, 0.814)\n",
      "\t\t\t\t\t\t@Validation(cost/accuracy): (0.941, 0.672)\n",
      "Epoch 48, CIFAR-10 Batch 5:  @Train(cost/accuracy): (0.631, 0.804)\n",
      "\t\t\t\t\t\t@Validation(cost/accuracy): (0.939, 0.676)\n",
      "Epoch 49, CIFAR-10 Batch 1:  @Train(cost/accuracy): (0.716, 0.777)\n",
      "\t\t\t\t\t\t@Validation(cost/accuracy): (0.942, 0.675)\n",
      "Epoch 49, CIFAR-10 Batch 2:  @Train(cost/accuracy): (0.665, 0.818)\n",
      "\t\t\t\t\t\t@Validation(cost/accuracy): (0.935, 0.674)\n",
      "Epoch 49, CIFAR-10 Batch 3:  @Train(cost/accuracy): (0.577, 0.838)\n",
      "\t\t\t\t\t\t@Validation(cost/accuracy): (0.931, 0.672)\n",
      "Epoch 49, CIFAR-10 Batch 4:  @Train(cost/accuracy): (0.608, 0.821)\n",
      "\t\t\t\t\t\t@Validation(cost/accuracy): (0.938, 0.675)\n",
      "Epoch 49, CIFAR-10 Batch 5:  @Train(cost/accuracy): (0.609, 0.811)\n",
      "\t\t\t\t\t\t@Validation(cost/accuracy): (0.942, 0.666)\n",
      "Epoch 50, CIFAR-10 Batch 1:  @Train(cost/accuracy): (0.724, 0.770)\n",
      "\t\t\t\t\t\t@Validation(cost/accuracy): (0.937, 0.675)\n",
      "Epoch 50, CIFAR-10 Batch 2:  @Train(cost/accuracy): (0.659, 0.818)\n",
      "\t\t\t\t\t\t@Validation(cost/accuracy): (0.938, 0.670)\n",
      "Epoch 50, CIFAR-10 Batch 3:  @Train(cost/accuracy): (0.592, 0.841)\n",
      "\t\t\t\t\t\t@Validation(cost/accuracy): (0.933, 0.677)\n",
      "Epoch 50, CIFAR-10 Batch 4:  @Train(cost/accuracy): (0.612, 0.807)\n",
      "\t\t\t\t\t\t@Validation(cost/accuracy): (0.936, 0.674)\n",
      "Epoch 50, CIFAR-10 Batch 5:  @Train(cost/accuracy): (0.594, 0.828)\n",
      "\t\t\t\t\t\t@Validation(cost/accuracy): (0.930, 0.674)\n"
     ]
    }
   ],
   "source": [
    "\"\"\"\n",
    "DON'T MODIFY ANYTHING IN THIS CELL\n",
    "\"\"\"\n",
    "save_model_path = './image_classification'\n",
    "\n",
    "print('Training...')\n",
    "with tf.Session() as sess:\n",
    "    # Initializing the variables\n",
    "    sess.run(tf.global_variables_initializer())\n",
    "    \n",
    "    # Training cycle\n",
    "    for epoch in range(epochs):\n",
    "        # Loop over all batches\n",
    "        n_batches = 5\n",
    "        for batch_i in range(1, n_batches + 1):\n",
    "            for batch_features, batch_labels in helper.load_preprocess_training_batch(batch_i, batch_size):\n",
    "                train_neural_network(sess, optimizer, keep_probability, batch_features, batch_labels)\n",
    "            print('Epoch {:>2}, CIFAR-10 Batch {}:  '.format(epoch + 1, batch_i), end='')\n",
    "            print_stats(sess, batch_features, batch_labels, cost, accuracy)\n",
    "            \n",
    "    # Save Model\n",
    "    saver = tf.train.Saver()\n",
    "    save_path = saver.save(sess, save_model_path)"
   ]
  },
  {
   "cell_type": "markdown",
   "metadata": {},
   "source": [
    "# Checkpoint\n",
    "The model has been saved to disk.\n",
    "## Test Model\n",
    "Test your model against the test dataset.  This will be your final accuracy. You should have an accuracy greater than 50%. If you don't, keep tweaking the model architecture and parameters."
   ]
  },
  {
   "cell_type": "code",
   "execution_count": 153,
   "metadata": {},
   "outputs": [
    {
     "data": {
      "text/plain": [
       "\"\\nDON'T MODIFY ANYTHING IN THIS CELL\\n\""
      ]
     },
     "execution_count": 153,
     "metadata": {},
     "output_type": "execute_result"
    },
    {
     "name": "stdout",
     "output_type": "stream",
     "text": [
      "Testing Accuracy: 0.6739142924547196\n",
      "\n"
     ]
    },
    {
     "data": {
      "image/png": "[encoded data removed]",
      "text/plain": [
       "<matplotlib.figure.Figure at 0x118155e48>"
      ]
     },
     "metadata": {
      "image/png": {
       "height": 319,
       "width": 355
      }
     },
     "output_type": "display_data"
    }
   ],
   "source": [
    "\"\"\"\n",
    "DON'T MODIFY ANYTHING IN THIS CELL\n",
    "\"\"\"\n",
    "%matplotlib inline\n",
    "%config InlineBackend.figure_format = 'retina'\n",
    "\n",
    "import tensorflow as tf\n",
    "import pickle\n",
    "import helper\n",
    "import random\n",
    "\n",
    "# Set batch size if not already set\n",
    "try:\n",
    "    if batch_size:\n",
    "        pass\n",
    "except NameError:\n",
    "    batch_size = 64\n",
    "\n",
    "save_model_path = './image_classification'\n",
    "n_samples = 4\n",
    "top_n_predictions = 3\n",
    "\n",
    "def test_model():\n",
    "    \"\"\"\n",
    "    Test the saved model against the test dataset\n",
    "    \"\"\"\n",
    "\n",
    "    test_features, test_labels = pickle.load(open('preprocess_test.p', mode='rb'))\n",
    "    loaded_graph = tf.Graph()\n",
    "\n",
    "    with tf.Session(graph=loaded_graph) as sess:\n",
    "        # Load model\n",
    "        loader = tf.train.import_meta_graph(save_model_path + '.meta')\n",
    "        loader.restore(sess, save_model_path)\n",
    "\n",
    "        # Get Tensors from loaded model\n",
    "        loaded_x = loaded_graph.get_tensor_by_name('x:0')\n",
    "        loaded_y = loaded_graph.get_tensor_by_name('y:0')\n",
    "        loaded_keep_prob = loaded_graph.get_tensor_by_name('keep_prob:0')\n",
    "        loaded_logits = loaded_graph.get_tensor_by_name('logits:0')\n",
    "        loaded_acc = loaded_graph.get_tensor_by_name('accuracy:0')\n",
    "        \n",
    "        # Get accuracy in batches for memory limitations\n",
    "        test_batch_acc_total = 0\n",
    "        test_batch_count = 0\n",
    "        \n",
    "        for test_feature_batch, test_label_batch in helper.batch_features_labels(test_features, test_labels, batch_size):\n",
    "            test_batch_acc_total += sess.run(\n",
    "                loaded_acc,\n",
    "                feed_dict={loaded_x: test_feature_batch, loaded_y: test_label_batch, loaded_keep_prob: 1.0})\n",
    "            test_batch_count += 1\n",
    "\n",
    "        print('Testing Accuracy: {}\\n'.format(test_batch_acc_total/test_batch_count))\n",
    "\n",
    "        # Print Random Samples\n",
    "        random_test_features, random_test_labels = tuple(zip(*random.sample(list(zip(test_features, test_labels)), n_samples)))\n",
    "        random_test_predictions = sess.run(\n",
    "            tf.nn.top_k(tf.nn.softmax(loaded_logits), top_n_predictions),\n",
    "            feed_dict={loaded_x: random_test_features, loaded_y: random_test_labels, loaded_keep_prob: 1.0})\n",
    "        helper.display_image_predictions(random_test_features, random_test_labels, random_test_predictions)\n",
    "\n",
    "\n",
    "test_model()"
   ]
  },
  {
   "cell_type": "markdown",
   "metadata": {},
   "source": [
    "## Why 50-80% Accuracy?\n",
    "You might be wondering why you can't get an accuracy any higher. First things first, 50% isn't bad for a simple CNN.  Pure guessing would get you 10% accuracy. However, you might notice people are getting scores [well above 80%](http://rodrigob.github.io/are_we_there_yet/build/classification_datasets_results.html#43494641522d3130).  That's because we haven't taught you all there is to know about neural networks. We still need to cover a few more techniques.\n",
    "## Submitting This Project\n",
    "When submitting this project, make sure to run all the cells before saving the notebook.  Save the notebook file as \"dlnd_image_classification.ipynb\" and save it as a HTML file under \"File\" -> \"Download as\".  Include the \"helper.py\" and \"problem_unittests.py\" files in your submission."
   ]
  }
 ],
 "metadata": {
  "kernelspec": {
   "display_name": "Python [default]",
   "language": "python",
   "name": "python3"
  },
  "language_info": {
   "codemirror_mode": {
    "name": "ipython",
    "version": 3
   },
   "file_extension": ".py",
   "mimetype": "text/x-python",
   "name": "python",
   "nbconvert_exporter": "python",
   "pygments_lexer": "ipython3",
   "version": "3.5.2"
  }
 },
 "nbformat": 4,
 "nbformat_minor": 1
}
